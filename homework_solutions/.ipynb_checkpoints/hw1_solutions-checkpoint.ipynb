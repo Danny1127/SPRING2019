{
 "cells": [
  {
   "cell_type": "markdown",
   "metadata": {},
   "source": [
    "### Problem 1\n",
    "\n",
    "* Demand: $P(q) = a - bq$\n",
    "* Cost: $C(q) = cq$\n",
    "* $b\\sim$ logN$(\\mu,\\sigma)$\n",
    "\n",
    "\n",
    "The firm wishes to maximize it's expected profit. Solve for the optimal quantity analytically. Then write a computer program that returns the numerical optimal quantity given any input vector $(a, c, \\mu, \\sigma)$. You may use existing quadrature packages or write your own code for the integration."
   ]
  },
  {
   "cell_type": "code",
   "execution_count": 1,
   "metadata": {
    "collapsed": false
   },
   "outputs": [
    {
     "name": "stderr",
     "output_type": "stream",
     "text": [
      "WARNING: Method definition count() in module IterTools at deprecated.jl:49 overwritten in module Iterators at deprecated.jl:49.\n",
      "WARNING: Method definition count(Number) in module IterTools at deprecated.jl:49 overwritten in module Iterators at deprecated.jl:49.\n",
      "WARNING: Method definition count(Number, Number) in module IterTools at deprecated.jl:49 overwritten in module Iterators at deprecated.jl:49.\n"
     ]
    },
    {
     "data": {
      "text/plain": [
       "quantity (generic function with 1 method)"
      ]
     },
     "execution_count": 1,
     "metadata": {},
     "output_type": "execute_result"
    }
   ],
   "source": [
    "using CompEcon\n",
    "\n",
    "# Return optimal quantity\n",
    "function quantity(a::Float64,c::Float64,mu::Float64,sigma::Float64)\n",
    "    expected_b = qnwlogn(5,mu,sigma^2)[2]'*qnwlogn(5,mu,sigma^2)[1]\n",
    "    q = (a-c)./(2.*expected_b)[1]\n",
    "end\n"
   ]
  },
  {
   "cell_type": "code",
   "execution_count": 2,
   "metadata": {
    "collapsed": false
   },
   "outputs": [
    {
     "name": "stdout",
     "output_type": "stream",
     "text": [
      "The optimal quantity for input vector [5.0,3.0,4.0,3.0] is 0.00025126399545284656\n"
     ]
    }
   ],
   "source": [
    "inputs = [5.,3.,4.,3.]\n",
    "println(\"The optimal quantity for input vector $(inputs) is $(quantity(inputs[1],inputs[2],inputs[3],inputs[4]))\")"
   ]
  },
  {
   "cell_type": "markdown",
   "metadata": {},
   "source": [
    "### Problem 2\n",
    "* Demand: $P(Q) = b\\,Q^{-\\gamma}$\n",
    "* $0 < \\gamma < 1,    b > 0$\n",
    "* Cost: $C_i(q_i) = \\frac{1}{2}\\,c_i \\, q_i^2$\n",
    "* $ c_i > 0$\n",
    "* i = 1,2\n",
    "* $Q = q_1 + q_2$\n",
    "\n",
    "The firms' wish to maximize their expected profits. Solve for the set of first-order conditions analytically. Then write a computer program that solves for the Nash Equilibrium given any input vector $(\\gamma, c_1, c_2, b)$ using:\n",
    "1. Newton's method\n",
    "2. Function iteration\n",
    "\n",
    "You must code all three algorithms yourself and not use packages."
   ]
  },
  {
   "cell_type": "code",
   "execution_count": 3,
   "metadata": {
    "collapsed": false
   },
   "outputs": [
    {
     "data": {
      "text/plain": [
       "f_solver (generic function with 1 method)"
      ]
     },
     "execution_count": 3,
     "metadata": {},
     "output_type": "execute_result"
    }
   ],
   "source": [
    "# Function iteration\n",
    "\n",
    "# Same function\n",
    "function f(q,c1::Float64,c2::Float64,gamma::Float64,b::Float64)\n",
    "    \n",
    "    q1 = 1/c1*(b*sum(q)^(-gamma-1)*(-gamma*q[1] + sum(q)))\n",
    "    q2 = 1/c2*(b*sum(q)^(-gamma-1)*(-gamma*q[2] + sum(q)))\n",
    "    \n",
    "    return [q1,q2]\n",
    "end\n",
    "\n",
    "\n",
    "function f_solver(q::Vector{Float64},c1::Float64,\n",
    "        c2::Float64,gamma::Float64,b::Float64,tol::Float64)\n",
    "    \n",
    "    # Initialize difference\n",
    "    d = [1.0e10,1.0e10]\n",
    "    \n",
    "    # Initial old value\n",
    "    q_old = q\n",
    "    max_its = 20\n",
    "    i = 1\n",
    "    \n",
    "    while (maximum(abs.(d)) > tol && i <= max_its)\n",
    "        q = f(q_old,c1,c2,gamma,b)\n",
    "        d = q - q_old\n",
    "        q_old = q\n",
    "        i += 1\n",
    "    end\n",
    "    \n",
    "    return q\n",
    "    \n",
    "end"
   ]
  },
  {
   "cell_type": "code",
   "execution_count": 7,
   "metadata": {
    "collapsed": false
   },
   "outputs": [
    {
     "name": "stdout",
     "output_type": "stream",
     "text": [
      "The Nash Equilibrium strategies are [4.55305,3.12446].\n"
     ]
    }
   ],
   "source": [
    "# Function iteration\n",
    "guess = [1., 1.]\n",
    "c1 = .1\n",
    "c2 = .2\n",
    "gamma = .9\n",
    "b = 10. # Expectation of B\n",
    "tol = 1e-8\n",
    "q_out = f_solver(guess,c1,c2,gamma,b,tol)\n",
    "\n",
    "println(\"The Nash Equilibrium strategies are $q_out.\")"
   ]
  }
 ],
 "metadata": {
  "kernelspec": {
   "display_name": "Julia 0.5.2",
   "language": "julia",
   "name": "julia-0.5"
  },
  "language_info": {
   "file_extension": ".jl",
   "mimetype": "application/julia",
   "name": "julia",
   "version": "0.5.2"
  }
 },
 "nbformat": 4,
 "nbformat_minor": 2
}
