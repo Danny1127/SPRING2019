{
 "cells": [
  {
   "cell_type": "markdown",
   "metadata": {},
   "source": [
    "## OLS, MLE and simulating data\n",
    "\n",
    "Here we are learning how to generate fake data in order to test that models are correct and to see how small true effect sizes are difficult to estimate."
   ]
  },
  {
   "cell_type": "code",
   "execution_count": 17,
   "metadata": {
    "collapsed": false
   },
   "outputs": [
    {
     "name": "stderr",
     "output_type": "stream",
     "text": [
      "\u001b[1m\u001b[34mINFO: Precompiling module Conda.\n",
      "\u001b[0m\u001b[1m\u001b[34mINFO: Precompiling module PyPlot.\n",
      "\u001b[0m"
     ]
    }
   ],
   "source": [
    "# Pkg.add(\"Distributions\")\n",
    "# Pkg.add(\"NLopt\")\n",
    "# Pkg.add(\"PyPlot\")\n",
    "# Required packages, may need to uncomment the lines above and add these two packages before using them\n",
    "using NLopt\n",
    "using Distributions\n",
    "using PyPlot"
   ]
  },
  {
   "cell_type": "markdown",
   "metadata": {},
   "source": [
    "The next cell defines how many observations we have and then generates data based on the true beta coefficients of our model"
   ]
  },
  {
   "cell_type": "code",
   "execution_count": 2,
   "metadata": {
    "collapsed": false
   },
   "outputs": [
    {
     "data": {
      "text/plain": [
       "1000-element Array{Float64,1}:\n",
       " -0.0144732\n",
       " -1.00176  \n",
       "  0.521275 \n",
       " -0.547927 \n",
       "  0.484153 \n",
       " -1.26781  \n",
       " -0.138003 \n",
       "  1.922    \n",
       "  0.0158334\n",
       " -1.98245  \n",
       " -0.308516 \n",
       " -0.145067 \n",
       " -1.44876  \n",
       "  ⋮        \n",
       " -0.525365 \n",
       "  0.146195 \n",
       " -0.113453 \n",
       "  0.275197 \n",
       "  0.311251 \n",
       " -0.606741 \n",
       "  0.986432 \n",
       "  0.984933 \n",
       " -0.60609  \n",
       " -1.69685  \n",
       "  2.3041   \n",
       "  1.83586  "
      ]
     },
     "execution_count": 2,
     "metadata": {},
     "output_type": "execute_result"
    }
   ],
   "source": [
    "# Number of observations of generated data\n",
    "N = 1000\n",
    "\n",
    "# Generate 100 mean 0 sd 1 random variables\n",
    "X1 = randn(1000)\n",
    "X2 = randn(1000)\n",
    "X3 = randn(1000)\n",
    "\n",
    "# Create covariate matrix\n",
    "X = [ones(N) X1 X2 X3]\n",
    "\n",
    "# True coefficients\n",
    "true_betas = [.1, .05, -.003, 0.]\n",
    "\n",
    "# Disturbance terms\n",
    "epsilons = randn(1000)\n",
    "\n",
    "# Outcome variable of our regression\n",
    "Y = X*true_betas + epsilons\n",
    "\n",
    "println(\"Data generated.\")"
   ]
  },
  {
   "cell_type": "markdown",
   "metadata": {},
   "source": [
    "Test the mean of the outcome variables, it should be close to the intercept term (0.1) since the X variables are mean 0."
   ]
  },
  {
   "cell_type": "code",
   "execution_count": 3,
   "metadata": {
    "collapsed": false
   },
   "outputs": [
    {
     "data": {
      "text/plain": [
       "0.14608013440366605"
      ]
     },
     "execution_count": 3,
     "metadata": {},
     "output_type": "execute_result"
    }
   ],
   "source": [
    "mean(Y)"
   ]
  },
  {
   "cell_type": "markdown",
   "metadata": {},
   "source": [
    "Define the negative log likelihood to maximize. NLopt has weird behavior where the function you're maximizing can only take one argument, the control you are searching over, besides a gradient which is allowed to be empty. If you declare the other variables in loglike above the function (i.e. the data were declared in a cell above), then it will be in the function's scope and the function see it even though it doesn't directly get passed the variables through the normal function arguments. If this is confusing look up more on scope in Julia."
   ]
  },
  {
   "cell_type": "code",
   "execution_count": 10,
   "metadata": {
    "collapsed": false
   },
   "outputs": [
    {
     "name": "stderr",
     "output_type": "stream",
     "text": [
      "WARNING: Method definition loglike(Array{Float64, N<:Any}, Array{Float64, N<:Any}) in module Main at In[4]:4 overwritten at In[10]:4.\n"
     ]
    },
    {
     "data": {
      "text/plain": [
       "loglike (generic function with 1 method)"
      ]
     },
     "execution_count": 10,
     "metadata": {},
     "output_type": "execute_result"
    }
   ],
   "source": [
    "# Log likelihood function, rho is the vector coefficients we're searching over, grad is just an empty input in case we wanted to put in the gradient of the loglikelihood (we don't).\n",
    "function loglike(rho::Array{Float64}, grad::Array{Float64})\n",
    "    # Coefficients\n",
    "    beta = rho[1:4]\n",
    "    # Disturbance term std dev\n",
    "    sigma2 = exp(rho[5])\n",
    "    # Residual, normally distributed\n",
    "    residual = Y - X*beta\n",
    "    # Sum log likelihoods\n",
    "    loglikelihood = sum(logpdf(Normal(0,sigma2), residual))\n",
    "    return loglikelihood\n",
    "end"
   ]
  },
  {
   "cell_type": "code",
   "execution_count": 15,
   "metadata": {
    "collapsed": false
   },
   "outputs": [
    {
     "name": "stdout",
     "output_type": "stream",
     "text": [
      "Converged to coefficients: [0.140243,0.0400766,-0.00265263,0.0474879,1.02948].\n"
     ]
    }
   ],
   "source": [
    "# Initial guess\n",
    "initial_rhos = [1., 1., 1., 1., 1.]\n",
    "\n",
    "# Select optimizer, BOBYQA is a derivative-free optimizer that's pretty reliable\n",
    "# In NLopt if you want to use Newton-style optimizers you will need to supply a gradient\n",
    "opt = Opt(:LN_BOBYQA,5)\n",
    "\n",
    "# Set tolerances\n",
    "ftol_abs!(opt, 1e-8)\n",
    "ftol_rel!(opt, 1e-8)\n",
    "xtol_rel!(opt, 1e-10)\n",
    "xtol_abs!(opt, 1e-10)\n",
    "# Stop searching after 5000 tries\n",
    "maxeval!(opt, 5000)\n",
    "\n",
    "# Declare maximization problem\n",
    "max_objective!(opt, loglike)\n",
    "\n",
    "# Maximize the loglikelihood, return the values, coefficients, and an exitflag that gives us information on convergence\n",
    "(loglikevalue,betas,ret) = optimize(opt, initial_rhos)\n",
    "\n",
    "# Put sigma back in correct terms\n",
    "betas[5] = exp(betas[5])\n",
    "\n",
    "if ret == :FTOL_REACHED\n",
    "    println(\"Converged to coefficients: $betas.\")\n",
    "else\n",
    "    println(\"Exitflag: $(ret).\")\n",
    "end"
   ]
  },
  {
   "cell_type": "markdown",
   "metadata": {},
   "source": [
    "How can we get standard errors for MLE? Bootstrapping. Bootstrap your standard errors."
   ]
  },
  {
   "cell_type": "code",
   "execution_count": 6,
   "metadata": {
    "collapsed": false
   },
   "outputs": [
    {
     "data": {
      "text/plain": [
       "bootstrap_mle (generic function with 1 method)"
      ]
     },
     "execution_count": 6,
     "metadata": {},
     "output_type": "execute_result"
    }
   ],
   "source": [
    "# Function that samples data with replacement and then maximizes the loglikelihood\n",
    "function bootstrap_mle(M::Int64,X::Array{Float64},Y::Array{Float64},initial_rhos::Array{Float64},opt)\n",
    "    \n",
    "    # Array indices of the values to sample\n",
    "    sample_index = wsample(1:M,ones(M)/M,M)\n",
    "    X_boot = X[sample_index,:]\n",
    "    Y_boot = Y[sample_index]\n",
    "    \n",
    "    # Loglikelihood function for bootstrapping\n",
    "    function loglike_boot(rho::Array{Float64}, grad::Array{Float64})\n",
    "        # Coefficients\n",
    "        beta = rho[1:4]\n",
    "        # Disturbance term std dev\n",
    "        sigma2 = exp(rho[5])\n",
    "        # Residual, normally distributed\n",
    "        residual = Y_boot - X_boot*beta\n",
    "        # Sum log likelihoods\n",
    "        loglikelihood = sum(logpdf(Normal(0,sigma2), residual))\n",
    "        return loglikelihood\n",
    "    end\n",
    "    \n",
    "    # Set tolerances\n",
    "    ftol_abs!(opt, 1e-8)\n",
    "    ftol_rel!(opt, 1e-8)\n",
    "    xtol_rel!(opt, 1e-10)\n",
    "    xtol_abs!(opt, 1e-10)\n",
    "    # Stop searching after 5000 tries\n",
    "    maxeval!(opt, 5000)\n",
    "\n",
    "    # Declare maximization problem\n",
    "    max_objective!(opt, loglike_boot)\n",
    "\n",
    "    # Maximize the loglikelihood of the bootstrapped sample\n",
    "    (loglikevalue,betas,ret) = optimize(opt, initial_rhos)\n",
    "    \n",
    "    # Put sigma back in correct terms\n",
    "    betas[5]= exp(betas[5])\n",
    "    \n",
    "    return betas\n",
    "\n",
    "end"
   ]
  },
  {
   "cell_type": "code",
   "execution_count": 7,
   "metadata": {
    "collapsed": false
   },
   "outputs": [],
   "source": [
    "# Number of samples to bootstrap\n",
    "num_samples = 1000\n",
    "\n",
    "# Initialize bootstrap sample array\n",
    "samples = Array{Float64}(num_samples,5)\n",
    "\n",
    "# Start bootstrapping\n",
    "for b = 1:num_samples\n",
    "    samples[b,:] = bootstrap_mle(N,X,Y,initial_rhos,opt)\n",
    "end"
   ]
  },
  {
   "cell_type": "code",
   "execution_count": 18,
   "metadata": {
    "collapsed": false
   },
   "outputs": [
    {
     "data": {
      "text/plain": [
       "1×5 Array{Float64,2}:\n",
       " 0.0627565  0.0605901  0.065853  0.0679804  0.0443262"
      ]
     },
     "execution_count": 18,
     "metadata": {},
     "output_type": "execute_result"
    }
   ],
   "source": [
    "bootstrapSE = std(samples,1)\n",
    "conf_radius = 1.96*bootstrapSE"
   ]
  },
  {
   "cell_type": "markdown",
   "metadata": {},
   "source": [
    "Now lets do some nonparametric hypothesis testing that our estimates are $\\neq$ 0. With normally distributed variables we can also do the normal-specific hypothesis tests that you are used to."
   ]
  },
  {
   "cell_type": "code",
   "execution_count": 9,
   "metadata": {
    "collapsed": false
   },
   "outputs": [
    {
     "name": "stdout",
     "output_type": "stream",
     "text": [
      "Our pvalues are [0.0,0.194,0.938,0.167].\n"
     ]
    }
   ],
   "source": [
    "# Calculate nonparametric p-values\n",
    "null_dist = Array{Float64}(num_samples,5)\n",
    "\n",
    "# Demean the bootstrapped samples\n",
    "for i = 1:5\n",
    "    null_dist[:,i] = samples[:,i] - mean(samples[:,i])\n",
    "end\n",
    "\n",
    "pvalues = Vector{Float64}(4)\n",
    "for i = 1:4\n",
    "    pvalues[i] = mean(abs(betas[i]).<abs(null_dist[:,i]))\n",
    "end\n",
    "println(\"Our pvalues are $pvalues.\")"
   ]
  },
  {
   "cell_type": "code",
   "execution_count": 39,
   "metadata": {
    "collapsed": false
   },
   "outputs": [
    {
     "data": {
      "image/png": "[encoded data removed]",
      "text/plain": [
       "PyPlot.Figure(PyObject <matplotlib.figure.Figure object at 0x7f9b0daf14d0>)"
      ]
     },
     "metadata": {},
     "output_type": "display_data"
    },
    {
     "data": {
      "text/plain": [
       "1-element Array{Any,1}:\n",
       " PyObject <matplotlib.lines.Line2D object at 0x7f9b0d694ad0>"
      ]
     },
     "execution_count": 39,
     "metadata": {},
     "output_type": "execute_result"
    }
   ],
   "source": [
    "# Plot the estimates and confidence intervals\n",
    "errors = [conf_radius;conf_radius]\n",
    "errorbar(1:5,betas,yerr=errors,fmt=\"o\")\n",
    "title(\"Coefficients and 95% Confidence Intervals\")\n",
    "xlabel(\"Variable\")\n",
    "ylabel(\"Coefficient Value\")\n",
    "plot(1.:.01:5., zeros(size(1.:.01:5.)), color=\"red\", linewidth=0.5, linestyle=\"--\")"
   ]
  },
  {
   "cell_type": "markdown",
   "metadata": {
    "collapsed": true
   },
   "source": [
    "Now adjust the magnitudes of the true $\\beta$s or the number of observations. Re-run the code, and see how the p values change."
   ]
  }
 ],
 "metadata": {
  "kernelspec": {
   "display_name": "Julia 0.5.2",
   "language": "julia",
   "name": "julia-0.5"
  },
  "language_info": {
   "file_extension": ".jl",
   "mimetype": "application/julia",
   "name": "julia",
   "version": "0.5.2"
  }
 },
 "nbformat": 4,
 "nbformat_minor": 2
}
