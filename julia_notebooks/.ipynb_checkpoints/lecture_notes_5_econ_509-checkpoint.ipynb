{
 "cells": [
  {
   "cell_type": "markdown",
   "metadata": {},
   "source": [
    "### Function approximation in practice\n",
    "\n",
    "Lets fit an ordinary polynomial approximant to Runge's function: $1/(1+25x^2)$. First use an evenly spaced grid."
   ]
  },
  {
   "cell_type": "code",
   "execution_count": null,
   "metadata": {
    "collapsed": false
   },
   "outputs": [],
   "source": [
    "# Plot the function\n",
    "using PyPlot\n",
    "using Polynomials\n",
    "\n",
    "# Number of collocation nodes\n",
    "N = 10\n",
    "\n",
    "# Runge's function\n",
    "f(x) = 1./(1.+25.*x.^2)\n",
    "\n",
    "# Generate evenly spaced x values\n",
    "x = linspace(-1,1,500)\n",
    "\n",
    "# Recover true y-values\n",
    "y_true = f(x)\n",
    "\n",
    "# Plot\n",
    "plot(x, y_true, color=\"red\", linewidth=2.0)"
   ]
  },
  {
   "cell_type": "code",
   "execution_count": null,
   "metadata": {
    "collapsed": false
   },
   "outputs": [],
   "source": [
    "# Generated evenly spaced grid\n",
    "xdata = linspace(-1,1,N+1)\n",
    "\n",
    "# Get y-values of the true function on the grid\n",
    "ydata = f(xdata)\n",
    "\n",
    "# Fit a polynomial to the values on the grid\n",
    "p1 = polyfit(xdata,ydata)\n",
    "\n",
    "# Plot\n",
    "plot(x, polyval(p1,x), color=\"blue\", linewidth=2.0)\n",
    "plot(x, y_true, color=\"red\", linewidth=2.0)\n",
    "scatter(xdata,ydata)\n",
    "title(\"Runge's function (red), collocation nodes (gray points), function approximant (blue).\")"
   ]
  },
  {
   "cell_type": "code",
   "execution_count": null,
   "metadata": {
    "collapsed": false
   },
   "outputs": [],
   "source": [
    "# Compute mean and maximum relative error\n",
    "mean_error = mean(abs.((polyval(p1,x) - y_true)./y_true))\n",
    "max_error = maximum(abs.((polyval(p1,x) - y_true)./y_true))\n",
    "\n",
    "# Plot relative errors\n",
    "plot(x, abs.((polyval(p1,x) - y_true)./y_true), color=\"blue\", linewidth=2.0)\n",
    "\n",
    "println(\"The mean relative error in our approximation on an evenly spaced grid of 500 points is $(mean_error) while the maximum error is $(max_error).\")"
   ]
  },
  {
   "cell_type": "markdown",
   "metadata": {},
   "source": [
    "### Chebyshev node and ordinary polynomial approximation\n",
    "\n",
    "An evenly spaced grid of nodes did not work well. Let us try to use Chebyshev nodes which are defined by $x_k = cos(\\frac{2k-1}{2n}\\pi), \\,\\,\\, k=1,...,n$."
   ]
  },
  {
   "cell_type": "code",
   "execution_count": null,
   "metadata": {
    "collapsed": false
   },
   "outputs": [],
   "source": [
    "# Function for generating Chebyshev nodes\n",
    "cheb_nodes(n) = [cos((2k-1)/2n*pi) for k = 1:n]\n",
    "\n",
    "# Generate Chebyshev nodes\n",
    "xdata = cheb_nodes(N)\n",
    "\n",
    "# Get true function value at Chebyshev nodes\n",
    "ydata = f(xdata)\n",
    "\n",
    "# Fit polynomial\n",
    "p2 = polyfit(xdata,ydata)\n",
    "\n",
    "# Plot\n",
    "plot(x, polyval(p2,x), color=\"blue\", linewidth=2.0)\n",
    "plot(x, y_true, color=\"red\", linewidth=2.0)\n",
    "scatter(xdata,ydata)\n",
    "title(\"Runge's function (red), collocation nodes (gray points), function approximant (blue).\")"
   ]
  },
  {
   "cell_type": "code",
   "execution_count": null,
   "metadata": {
    "collapsed": false
   },
   "outputs": [],
   "source": [
    "# Compute mean and maximum relative error\n",
    "mean_error = mean(abs.((polyval(p2,x) - y_true)./y_true))\n",
    "max_error = maximum(abs.((polyval(p2,x) - y_true)./y_true))\n",
    "\n",
    "# Plot relative errors\n",
    "plot(x, abs.((polyval(p2,x) - y_true)./y_true), color=\"blue\", linewidth=2.0)\n",
    "\n",
    "println(\"The mean relative error in our approximation on an evenly spaced grid of 500 points is $(mean_error) while the maximum error is $(max_error).\")"
   ]
  },
  {
   "cell_type": "markdown",
   "metadata": {},
   "source": [
    "### Chebyshev function and node approximation\n",
    "\n",
    "Now approximate Runge's function using the Chebyshev nodes and Chebyshev polynomials which are given by the following recurrence relation:\n",
    "\n",
    "1. $T_0(x) = 1$\n",
    "2. $T_1(x) = x$\n",
    "3. $T_{n+1}(x) = 2xT_n(x)-T_{n-1}(x)$\n",
    "\n",
    "or the following trigonometric identity: $T_n(x) = cos(n \\, arccos(x))$."
   ]
  },
  {
   "cell_type": "code",
   "execution_count": null,
   "metadata": {
    "collapsed": false
   },
   "outputs": [],
   "source": [
    "# Generate Chebyshev nodes\n",
    "xdata = cheb_nodes(N)\n",
    "\n",
    "# Get true function value at Chebyshev nodes\n",
    "ydata = f(xdata)\n",
    "\n",
    "# Chebyshev polynomials\n",
    "cheb_polys(n,x) = cos(n*acos(x))\n",
    "\n",
    "# Recover Chebyshev polynomial values on our grid\n",
    "cheb_values = [ for i = 1:N]\n",
    "\n",
    "\n",
    "# Fit polynomial\n",
    "p3 = polyfit(xdata,ydata)\n",
    "\n",
    "# Plot\n",
    "plot(x, polyval(p3,x), color=\"blue\", linewidth=2.0)\n",
    "plot(x, y_true, color=\"red\", linewidth=2.0)\n",
    "scatter(xdata,ydata)\n",
    "title(\"Runge's function (red), collocation nodes (gray points), function approximant (blue).\")"
   ]
  },
  {
   "cell_type": "code",
   "execution_count": null,
   "metadata": {
    "collapsed": false
   },
   "outputs": [],
   "source": [
    "# Generate Chebyshev nodes\n",
    "xdata = cheb_nodes(N)\n",
    "\n",
    "# Get true function value at Chebyshev nodes\n",
    "ydata = f(xdata)\n",
    "\n",
    "# Chebyshev polynomial of degree n at grid point x\n",
    "cheb_polys(n,x) = cos(n*acos(x))\n",
    "\n",
    "# Compute Chebyshev matrix. For each grid point, construct polynomial up to degree N-1\n",
    "cheb_values = [[cheb_polys(i,xdata[j]) for i = 0:N-1] for j = 1:length(xdata)]\n",
    "cheb_values = hcat(cheb_values...)'\n",
    "\n",
    "# Chebyshev coefficients, recover by solving Phi*c = y for c\n",
    "cheb_coefficients = cheb_values\\ydata\n",
    "\n",
    "# Compute Chebyshev polynomials\n",
    "cheb_values_plot = [[cheb_polys(i,x[j]) for i = 0:N-1] for j = 1:length(x)]\n",
    "cheb_values_plot = hcat(cheb_values_plot...)'\n",
    "\n",
    "# Multiply by the coefficients\n",
    "cheb_data = cheb_values_plot*cheb_coefficients\n",
    "\n",
    "# Plot\n",
    "plot(x, cheb_data, color=\"blue\", linewidth=2.0)\n",
    "plot(x, y_true, color=\"red\", linewidth=2.0)\n",
    "scatter(xdata,ydata)\n",
    "title(\"Runge's function (red), collocation nodes (gray points), function approximant (blue).\")"
   ]
  },
  {
   "cell_type": "code",
   "execution_count": null,
   "metadata": {
    "collapsed": false
   },
   "outputs": [],
   "source": [
    "# Compute mean and maximum relative error\n",
    "mean_error = mean(abs.((cheb_data - y_true)./y_true))\n",
    "max_error = maximum(abs.((cheb_data - y_true)./y_true))\n",
    "\n",
    "# Plot relative errors\n",
    "plot(x, abs.((cheb_data - y_true)./y_true), color=\"blue\", linewidth=2.0)\n",
    "\n",
    "println(\"The mean relative error in our approximation on an evenly spaced grid of 500 points is $(mean_error) while the maximum error is $(max_error).\")"
   ]
  }
 ],
 "metadata": {
  "kernelspec": {
   "display_name": "Julia 0.5.2",
   "language": "julia",
   "name": "julia-0.5"
  },
  "language_info": {
   "file_extension": ".jl",
   "mimetype": "application/julia",
   "name": "julia",
   "version": "0.5.2"
  }
 },
 "nbformat": 4,
 "nbformat_minor": 2
}
