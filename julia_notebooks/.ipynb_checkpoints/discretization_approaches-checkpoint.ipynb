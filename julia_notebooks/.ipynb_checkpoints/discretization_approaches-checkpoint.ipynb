{
 "cells": [
  {
   "cell_type": "markdown",
   "metadata": {},
   "source": [
    "# Discretization approaches\n",
    "## Value function iteration\n",
    "\n",
    "Here we see how we can just purely discretize the state space without using any interpolation methods to solve the model. We are going to use a basic growth model.\n",
    "\n",
    "Utility is given by: $u(c) = log(c)$.\n",
    "\n",
    "The resource constraint is given by: $k' + c = k^\\alpha + (1-\\delta)k$.\n",
    "\n",
    "This gives us the Bellman equation we will iterate on: $\\max_{c} log(c) + \\beta V(k^\\alpha + (1-\\delta)k - c)$.\n",
    "\n",
    "To solve the model we need to define a few things:\n",
    "1. Bounds for the approximation domain over current capital\n",
    "2. How finely to discretize (e.g. how many grid points)\n",
    "3. When to stop iterating\n",
    "4. The model parameters\n",
    "\n",
    "The next cell creates a composite type that holds the model parameters. Notice it is parametrically typed."
   ]
  },
  {
   "cell_type": "code",
   "execution_count": 2,
   "metadata": {},
   "outputs": [],
   "source": [
    "struct modelParams{T}\n",
    "    α::T\n",
    "    β::T\n",
    "    δ::T\n",
    "end"
   ]
  },
  {
   "cell_type": "markdown",
   "metadata": {},
   "source": [
    "The next cell defines the VFI function. It initializes arrays for the maximized values, the previous maximized values, and a 2D array to store all the intermediate stage maximized values. It then goes into a while loop (with a maximum number of iterations) that iterates on the Bellman until the maximum difference between the current maximized values and previous maximized values is less than the tolerance."
   ]
  },
  {
   "cell_type": "code",
   "execution_count": 36,
   "metadata": {},
   "outputs": [
    {
     "data": {
      "text/plain": [
       "iterateValue (generic function with 3 methods)"
      ]
     },
     "execution_count": 36,
     "metadata": {},
     "output_type": "execute_result"
    }
   ],
   "source": [
    "# function for iterating on the value function\n",
    "function iterateValue(grid, params, max_iter=100, tol=1e-4)\n",
    "\n",
    "    # grid size\n",
    "    grid_size = size(grid, 1)\n",
    "\n",
    "    # initialize continuation value\n",
    "    V = Array{Float64}(zeros(grid_size, 1))\n",
    "    V_prev = Array{Float64}(zeros(grid_size, 1))\n",
    "    V_store = Array{Float64}(undef,grid_size, max_iter)\n",
    "    # initialize maximum value difference\n",
    "    max_diff = 1e10\n",
    "    # initialize iteration\n",
    "    it = 1\n",
    "\n",
    "    # while we are above the tolerance\n",
    "    while max_diff > tol && it <= max_iter\n",
    "\n",
    "        # loop over the grid points\n",
    "        for i = eachindex(grid)\n",
    "\n",
    "            # possible consumption values (output + remaining capital - capital next period)\n",
    "            c_vec = grid[i].^params.α .+ (1-params.δ)*grid[i] .- grid\n",
    "\n",
    "            # initialize current maximum value\n",
    "            value_max = -Inf\n",
    "\n",
    "            # loop over possible consumption values and find the one that maximizes\n",
    "            # the right hand side of the Bellman, search over ones with positive consumption\n",
    "            # since log utility\n",
    "            for (ii, c) in enumerate(c_vec[c_vec .> 0])\n",
    "\n",
    "                # value\n",
    "                value_temp = log(c) + params.β*V[ii]\n",
    "                # new maximum guess\n",
    "                value_max = max(value_temp, value_max)\n",
    "\n",
    "            end\n",
    "            # store maximum value\n",
    "            V[i] = value_max\n",
    "        end\n",
    "\n",
    "        # get maximum difference\n",
    "        max_diff = maximum(abs.(V .- V_prev))\n",
    "        \n",
    "        if mod(it,10) == 0\n",
    "            println(\"Current maximum value difference at iteration $it is $max_diff.\")\n",
    "        end\n",
    "\n",
    "        # save old value\n",
    "        V_prev = copy(V)\n",
    "        \n",
    "        # store for plotting below\n",
    "        V_store[:,it] = V\n",
    "\n",
    "        if it == max_iter\n",
    "            println(\"Hit maximum iterations\")\n",
    "            break\n",
    "        end\n",
    "        it += 1\n",
    "\n",
    "    end\n",
    "\n",
    "    return V, V_store\n",
    "\n",
    "end"
   ]
  },
  {
   "cell_type": "markdown",
   "metadata": {},
   "source": [
    "Now we define the parameters of our problem and generate the grid on which we will approximate."
   ]
  },
  {
   "cell_type": "code",
   "execution_count": 52,
   "metadata": {},
   "outputs": [
    {
     "name": "stdout",
     "output_type": "stream",
     "text": [
      "Current maximum value difference at iteration 10 is 0.06190299655752263.\n",
      "Current maximum value difference at iteration 20 is 0.0016908794180565678.\n",
      "  2.207375 seconds (308.29 k allocations: 1.003 GiB, 4.46% gc time)\n"
     ]
    }
   ],
   "source": [
    "# capital grid approximation bounds\n",
    "lb = 0.001\n",
    "ub = 10.\n",
    "\n",
    "# number of grid points\n",
    "grid_size = 2000\n",
    "\n",
    "# generate evenly spaced captial grid\n",
    "grid = collect(range(lb, stop=ub, length=grid_size))\n",
    "\n",
    "# define model parameters, here we are using full capital depreciation to compare against analytic solutions\n",
    "params = modelParams(.5, .7, 1.)\n",
    "\n",
    "# solve model\n",
    "value, v_store = @time iterateValue(grid, params, 100, 0.001);"
   ]
  },
  {
   "cell_type": "code",
   "execution_count": 53,
   "metadata": {},
   "outputs": [
    {
     "data": {
      "image/png": "[encoded data removed]"
     },
     "execution_count": 53,
     "metadata": {},
     "output_type": "execute_result"
    }
   ],
   "source": [
    "using Plots\n",
    "\n",
    "gr(size=(500, 500), fmt=:png)\n",
    "plot(grid, v_store[:,1:5:20],\n",
    "    linestyle = [:solid],\n",
    "    grid = :false,\n",
    "    xlabel = \"Capital\",\n",
    "    ylabel = \"Value\",\n",
    "    legend = :none)"
   ]
  },
  {
   "cell_type": "markdown",
   "metadata": {},
   "source": [
    "# Discretization approaches\n",
    "## Fixed Point iteration\n",
    "\n",
    "Here we use the same approach but we iterate on the Euler equation. Here assume full depreciation $\\delta = 1$.\n",
    "\n",
    "Utility is given by: $u(c) = log(c)$.\n",
    "\n",
    "The resource constraint is given by: $k' + c = k^\\alpha$.\n",
    "\n",
    "This gives us the Euler equation we will iterate on: $u_c(c) = \\beta u_c(c') F_k(k')$.\n",
    "\n",
    "Put it in fixed point form: $c = u_c^{-1}[\\beta u_c(c') F_k(k')]$.\n",
    "\n",
    "The next cell defines the consumption Euler equation."
   ]
  },
  {
   "cell_type": "code",
   "execution_count": null,
   "metadata": {},
   "outputs": [],
   "source": [
    "function capital_euler(grid,params,cap_vec,grid_pt)\n",
    "    \n",
    "    # Next period capital\n",
    "    capital_next = cap_vec[grid_pt]\n",
    "    # Current period capital\n",
    "    capital = grid[grid_pt]\n",
    "\n",
    "    # Current consumption given current and next period capital\n",
    "    cons = capital^params.α - capital_next\n",
    "    \n",
    "    # Two period ahead capital given next period capital as the state and policy function\n",
    "    capital_next2 = \n",
    "    \n",
    "    # Two period ahead capital from Euler equation\n",
    "    cons_next = (params.β*cons_next^(-gamma)*alpha*(capital_next).^(alpha-1)).^(-1/gamma)\n",
    "    return cons_next[1]\n",
    "end"
   ]
  }
 ],
 "metadata": {
  "kernelspec": {
   "display_name": "Julia 0.7.0",
   "language": "julia",
   "name": "julia-0.7"
  },
  "language_info": {
   "file_extension": ".jl",
   "mimetype": "application/julia",
   "name": "julia",
   "version": "0.7.0"
  }
 },
 "nbformat": 4,
 "nbformat_minor": 2
}
