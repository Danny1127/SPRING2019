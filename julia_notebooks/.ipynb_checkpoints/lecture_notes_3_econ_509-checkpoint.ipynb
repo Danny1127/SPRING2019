{
 "cells": [
  {
   "cell_type": "markdown",
   "metadata": {},
   "source": [
    "# Problem 1\n",
    "Find the zero of $3x^3 + 2x - 4$ using the bisection method. The first block is coded in an intuitive/sequential way. The second block writes more efficient code that can be reused for different functions."
   ]
  },
  {
   "cell_type": "code",
   "execution_count": 21,
   "metadata": {},
   "outputs": [
    {
     "name": "stdout",
     "output_type": "stream",
     "text": [
      "  0.003835 seconds (304 allocations: 9.641 KiB)\n",
      "The root is at 0.9013976436108351.\n",
      "It took 30 iterations.\n"
     ]
    }
   ],
   "source": [
    "# Initialize bounds\n",
    "lb = 0.\n",
    "ub = 10.\n",
    "# Initialize tolerance\n",
    "tol = 1.e-8\n",
    "\n",
    "function f1(x::Float64)\n",
    "    return 3.0.*x^3 + 2.0.*x - 4.\n",
    "end\n",
    "\n",
    "# Starting point\n",
    "x = (lb+ub)./2.\n",
    "# Initial difference\n",
    "d = (ub-lb)./2.\n",
    "it = 1\n",
    "\n",
    "# Loop until difference between iterations is less than tolerance\n",
    "@time while d > tol\n",
    "    \n",
    "    # Declare global for variables that were declared outside a loop (outside it's scope)\n",
    "    # but are changed inside the loop\n",
    "    global it += 1\n",
    "    global d = d./2.\n",
    "    \n",
    "    # If guess is same sign as lower bound, search higher, else search lower\n",
    "    if sign(f1(lb)) == sign(f1(x))\n",
    "        global lb = x\n",
    "        global x = x + d\n",
    "    else\n",
    "        global ub = x\n",
    "        global x = x - d\n",
    "    end\n",
    "    \n",
    "end\n",
    "println(\"The root is at $x.\")\n",
    "println(\"It took $(it) iterations.\")"
   ]
  },
  {
   "cell_type": "code",
   "execution_count": 20,
   "metadata": {},
   "outputs": [
    {
     "name": "stdout",
     "output_type": "stream",
     "text": [
      "  0.035882 seconds (52.19 k allocations: 2.777 MiB, 25.79% gc time)\n",
      "The root is at 0.9013976436108351 and it took 30 iterations.\n",
      "  0.018169 seconds (38.21 k allocations: 2.053 MiB)\n",
      "The root is at 0.49999999813735485 and it took 30 iterations.\n"
     ]
    }
   ],
   "source": [
    "# Function that does bisection method for arbitrary functions and parameters\n",
    "function bisection_map(func,lb,ub,tol=1e-8)\n",
    "    \n",
    "    # Starting point\n",
    "    x = (lb+ub)./2\n",
    "    \n",
    "    # Initial difference\n",
    "    d = (ub-lb)./2\n",
    "    \n",
    "    iter = 1\n",
    "\n",
    "    # Loop until difference between iterations is less than tolerance\n",
    "    while d > tol\n",
    "\n",
    "        # Declare global for variables that were declared outside a loop (outside it's scope)\n",
    "        # but are changed inside the loop\n",
    "        iter += 1\n",
    "        d = d./2.\n",
    "\n",
    "        # If guess is same sign as lower bound, search higher, else search lower\n",
    "        if sign(func(lb)) == sign(func(x))\n",
    "            lb = x\n",
    "            x = x + d\n",
    "        else\n",
    "            ub = x\n",
    "            x = x - d\n",
    "        end\n",
    "\n",
    "    end\n",
    "    \n",
    "    return x, iter\n",
    "    \n",
    "end\n",
    "\n",
    "# Initialize bounds\n",
    "lb = 0.\n",
    "ub = 10.\n",
    "\n",
    "# Initialize tolerance\n",
    "tol = 1.e-8\n",
    "\n",
    "# Function to pass\n",
    "f1(x) = 3*x^3 + 2*x - 4\n",
    "\n",
    "# Call the bisection map function\n",
    "@time sol_f1, iter_f1 = bisection_map(f1,lb,ub,tol)\n",
    "println(\"The root is at $sol_f1 and it took $iter_f1 iterations.\")\n",
    "\n",
    "ff1(x) = log(2*x)\n",
    "\n",
    "# Call the bisection map function for a new function\n",
    "@time sol_f2, iter_f2 = bisection_map(ff1,lb,ub,tol)\n",
    "println(\"The root is at $sol_f2 and it took $iter_f2 iterations.\")\n"
   ]
  },
  {
   "cell_type": "markdown",
   "metadata": {},
   "source": [
    "# Problem 2\n",
    "Find the fixed point of $x^{-1/2}$ using function iteration. The first block is coded in an intuitive/sequential way. The second block writes more efficient code that can be reused for different functions."
   ]
  },
  {
   "cell_type": "code",
   "execution_count": 7,
   "metadata": {},
   "outputs": [
    {
     "name": "stdout",
     "output_type": "stream",
     "text": [
      "  0.002701 seconds (107 allocations: 4.328 KiB)\n",
      "The root is at 0.9997189622166588.\n",
      "It took 14 iterations.\n"
     ]
    }
   ],
   "source": [
    "# Initialize difference\n",
    "d = 1.0e10\n",
    "# Initialize tolerance\n",
    "tol = 1.e-3\n",
    "# Initial old value\n",
    "x_old = 10.\n",
    "\n",
    "it = 1\n",
    "\n",
    "\n",
    "# Same function\n",
    "function f2(x::Float64)\n",
    "    return x^(-1/2)\n",
    "end\n",
    "\n",
    "@time while abs(d) > tol\n",
    "    \n",
    "    global it += 1\n",
    "    \n",
    "    global x = f2(x_old)\n",
    "    global d = x - x_old\n",
    "    global x_old = x\n",
    "    \n",
    "    \n",
    "end\n",
    "println(\"The root is at $x.\")\n",
    "println(\"It took $(it) iterations.\")"
   ]
  },
  {
   "cell_type": "code",
   "execution_count": 8,
   "metadata": {},
   "outputs": [
    {
     "name": "stdout",
     "output_type": "stream",
     "text": [
      "  0.006832 seconds (6.53 k allocations: 355.050 KiB)\n",
      "The root is at 0.9997189622166588.\n",
      "It took 2 iterations.\n"
     ]
    }
   ],
   "source": [
    "# Initialize tolerance\n",
    "tol = 1.e-3\n",
    "# Initial old value\n",
    "guess = 10.\n",
    "\n",
    "\n",
    "# Same function\n",
    "f2(x) = x^(-1/2)\n",
    "\n",
    "function fixed_point_map(func,tol=1e-8,guess)\n",
    "    \n",
    "    # Initialize difference\n",
    "    d = 1.0e10\n",
    "    # Initialize iteration counter\n",
    "    it = 1\n",
    "    x_old = guess\n",
    "    \n",
    "    while abs(d) > tol\n",
    "        \n",
    "        it += 1\n",
    "        x = func(x_old)\n",
    "        d = x - x_old\n",
    "        x_old = x\n",
    "\n",
    "    end\n",
    "    \n",
    "    return x, it\n",
    "    \n",
    "end\n",
    "\n",
    "x, it = @time fixed_point_map(f2,tol,x_old)\n",
    "println(\"The root is at $x.\")\n",
    "println(\"It took $(it) iterations.\")"
   ]
  },
  {
   "cell_type": "markdown",
   "metadata": {},
   "source": [
    "# Problem 3\n",
    "Find the zero of $3x^3 + 2x - 4$ using using Newton's method. Is this faster (in time or iterations) than bisection method? The first block is coded in an intuitive/sequential way. The second block writes more efficient code that can be reused for different functions. The first function uses finite differences to calculate derivatives, the second function takes in an analytic derivative. This also shows you the advantages in terms of function iterations from using exact derivatives."
   ]
  },
  {
   "cell_type": "code",
   "execution_count": 29,
   "metadata": {},
   "outputs": [
    {
     "name": "stdout",
     "output_type": "stream",
     "text": [
      "  0.000020 seconds (74 allocations: 1.156 KiB)\n",
      "The root is at 0.9013976500936001.\n",
      "It took 12 iterations.\n"
     ]
    }
   ],
   "source": [
    "# Initialize tolerance\n",
    "tol = 1.e-8\n",
    "# Initial old value and new value\n",
    "x_old = -10.\n",
    "x = 0.\n",
    "\n",
    "# Function\n",
    "function f3(x::Float64)\n",
    "    return 3.0.*x.^3 .+ 2.0.*x .- 4.\n",
    "end\n",
    "\n",
    "# Derivative\n",
    "function f3_prime(x::Float64)\n",
    "    return 9.0.*x.^2 .+ 2.\n",
    "end\n",
    "\n",
    "it = 0\n",
    "# Perform Newton step\n",
    "@time while abs(f3(x_old)) > tol\n",
    "    global it += 1\n",
    "    global x = x_old - f3(x_old)/f3_prime(x_old)\n",
    "    global x_old = x\n",
    "end\n",
    "println(\"The root is at $x.\")\n",
    "println(\"It took $(it) iterations.\")"
   ]
  },
  {
   "cell_type": "code",
   "execution_count": 36,
   "metadata": {},
   "outputs": [
    {
     "name": "stdout",
     "output_type": "stream",
     "text": [
      "  0.021266 seconds (80.33 k allocations: 4.380 MiB)\n",
      "The root is at 0.901397648991249.\n",
      "It took 2324 iterations.\n"
     ]
    }
   ],
   "source": [
    "function newton_map(func,guess,tol=1e-8,fd_diff=1e-5)\n",
    "    \n",
    "    # Initial old value and new value\n",
    "    x_old = -10.\n",
    "    x = 0.\n",
    "    # Initialize iteration counter\n",
    "    it = 0\n",
    "    \n",
    "    # Central finite difference derivative\n",
    "    func_prime = (func(x_old+fd_diff) - func(x_old-fd_diff))/(2*fd_diff)\n",
    "    \n",
    "    # Perform Newton step\n",
    "    while abs(func(x_old)) > tol\n",
    "        it += 1\n",
    "        x = x_old - func(x_old)/func_prime\n",
    "        x_old = x\n",
    "    end\n",
    "    \n",
    "    return x, it\n",
    "\n",
    "    \n",
    "end\n",
    "\n",
    "# Initialize tolerance\n",
    "tol = 1.e-8\n",
    "\n",
    "# Function\n",
    "f3(x) = 3.0.*x.^3 .+ 2.0.*x .- 4.\n",
    "\n",
    "x,it = @time newton_map(f3,0.,1e-8,1e-4)\n",
    "\n",
    "println(\"The root is at $x.\")\n",
    "println(\"It took $(it) iterations.\")\n"
   ]
  },
  {
   "cell_type": "code",
   "execution_count": 39,
   "metadata": {},
   "outputs": [
    {
     "name": "stdout",
     "output_type": "stream",
     "text": [
      "  0.029215 seconds (68.56 k allocations: 3.812 MiB, 26.96% gc time)\n",
      "The root is at 0.9013976500936001.\n",
      "It took 12 iterations.\n"
     ]
    }
   ],
   "source": [
    "function newton_map(func,func_prime,guess,tol=1e-8,fd_diff=1e-5)\n",
    "    \n",
    "    # Initial old value and new value\n",
    "    x_old = -10.\n",
    "    x = 0.\n",
    "    # Initialize iteration counter\n",
    "    it = 0\n",
    "        \n",
    "    # Perform Newton step\n",
    "    while abs(func(x_old)) > tol\n",
    "        it += 1\n",
    "        x = x_old - func(x_old)/func_prime(x_old)\n",
    "        x_old = x\n",
    "    end\n",
    "    \n",
    "    return x, it\n",
    "\n",
    "    \n",
    "end\n",
    "\n",
    "# Initialize tolerance\n",
    "tol = 1.e-8\n",
    "\n",
    "# Function\n",
    "f3(x) = 3.0.*x.^3 .+ 2.0.*x .- 4.\n",
    "f3_prime(x) = 0.0.*x.^2 .+ 2.0\n",
    "\n",
    "x,it = @time newton_map(f3,f3_prime,0.,1e-8,1e-4)\n",
    "\n",
    "println(\"The root is at $x.\")\n",
    "println(\"It took $(it) iterations.\")\n"
   ]
  },
  {
   "cell_type": "markdown",
   "metadata": {},
   "source": [
    "# Problem 4\n",
    "Find the maximum of $-x^2$ using using Golden search."
   ]
  },
  {
   "cell_type": "code",
   "execution_count": null,
   "metadata": {},
   "outputs": [],
   "source": [
    "# Starting lower bound\n",
    "a = -1.0\n",
    "# Starting upper bound\n",
    "b = 1.0\n",
    "\n",
    "# Starting evaluation points\n",
    "x1 = 0.\n",
    "x2 = 0.\n",
    "\n",
    "# Initialize difference\n",
    "d = 1e10\n",
    "\n",
    "# Ratios\n",
    "alpha1 = (3.0 .- sqrt(5))/2.\n",
    "alpha2 = (sqrt(5) .- 1.)/2.\n",
    "\n",
    "# Initialize tolerance\n",
    "tol = 1e-7\n",
    "\n",
    "# Function to maximize\n",
    "function f1(x::Float64)\n",
    "    return -x.^2\n",
    "end\n",
    "\n",
    "it = 1\n",
    "\n",
    "@time while d > tol\n",
    "    global it += 1\n",
    "    global x1 = a + alpha1*(b-a)\n",
    "    global x2 = a + alpha2*(b-a)\n",
    "    # If guess is same sign as lower bound, search higher, else search lower\n",
    "    if f1(x1) > f1(x2)\n",
    "        global b = x2\n",
    "    else\n",
    "        global a = x1\n",
    "    end\n",
    "    global d = abs(a - b)\n",
    "end\n",
    "println(\"The maximum is at $a.\")\n",
    "println(\"It took $(it) iterations.\")"
   ]
  }
 ],
 "metadata": {
  "kernelspec": {
   "display_name": "Julia 0.7.0",
   "language": "julia",
   "name": "julia-0.7"
  },
  "language_info": {
   "file_extension": ".jl",
   "mimetype": "application/julia",
   "name": "julia",
   "version": "0.7.0"
  }
 },
 "nbformat": 4,
 "nbformat_minor": 2
}
