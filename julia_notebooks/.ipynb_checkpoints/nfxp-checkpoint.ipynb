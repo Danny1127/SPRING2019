{
 "cells": [
  {
   "cell_type": "markdown",
   "metadata": {},
   "source": [
    "# Nested Fixed Point"
   ]
  },
  {
   "cell_type": "code",
   "execution_count": 1,
   "metadata": {},
   "outputs": [],
   "source": [
    "using Plots\n",
    "using Optim\n",
    "using SparseArrays\n",
    "using CSV"
   ]
  },
  {
   "cell_type": "code",
   "execution_count": 2,
   "metadata": {},
   "outputs": [],
   "source": [
    "# Initialize Rust model type, make it mutable since we will need to be iterating on a fixed point\n",
    "mutable struct rustModel\n",
    "    beta::Float64 # Discount factor\n",
    "    model_params::Array{Float64} # Utility fnction parameters\n",
    "    ppi::Array{Float64} # transition probabilities\n",
    "    EV::Array{Float64} # EV array\n",
    "    K::Int64 # Size of state space\n",
    " \n",
    "   # Initialize model parameters\n",
    "    function rustModel( beta = .9999, K = 90 )\n",
    "       EV = ones(K, 1)\n",
    "       pi = [.348, .639, .013]\n",
    "       model_params = [3.6, 10]\n",
    "       return new( beta, model_params, pi, EV, K )\n",
    "    end\n",
    "    \n",
    "end;"
   ]
  },
  {
   "cell_type": "code",
   "execution_count": 3,
   "metadata": {},
   "outputs": [
    {
     "name": "stdout",
     "output_type": "stream",
     "text": [
      "Beta is 0.9999\n",
      "Guesses for theta are [3.6, 10.0]\n",
      "Transition probability guesses are [0.348, 0.639, 0.013]\n",
      "Size of State Space: 90\n"
     ]
    }
   ],
   "source": [
    "m = rustModel()\n",
    " \n",
    "println(\"Beta is \", m.beta)\n",
    "println(\"Guesses for theta are \", m.model_params)\n",
    "println(\"Transition probability guesses are \", m.ppi)\n",
    "println(\"Size of State Space: \", m.K)"
   ]
  },
  {
   "cell_type": "code",
   "execution_count": 4,
   "metadata": {},
   "outputs": [],
   "source": [
    "# Type for Rust data, includes endogenous and exogenous states\n",
    "mutable struct rustData\n",
    "    endog::Array{Int64}\n",
    "    exog::Array{Int64}\n",
    " \n",
    "    function rustData( endog = [], exog = [])\n",
    "        return new( endog, exog )\n",
    "    end\n",
    "end"
   ]
  },
  {
   "cell_type": "code",
   "execution_count": 5,
   "metadata": {},
   "outputs": [
    {
     "data": {
      "text/plain": [
       "2×90 Array{Float64,2}:\n",
       "  -0.0036   -0.0072   -0.0108   -0.0144  …   -0.3168   -0.3204   -0.324\n",
       " -10.0     -10.0     -10.0     -10.0        -10.0     -10.0     -10.0  "
      ]
     },
     "execution_count": 5,
     "metadata": {},
     "output_type": "execute_result"
    }
   ],
   "source": [
    "# Per-period return function, top row is not replacing, bottom row is replacing\n",
    "function u(model::rustModel)\n",
    "    S = collect(1:model.K)' # Generate State Space range, i.e. [1, 2, 3, 4, ...]\n",
    "    d_0 = .001 * model.model_params[1] * S # Utility from not replacing\n",
    "    d_1 = model.model_params[2] * ones(1, model.K) # Utility from replacing\n",
    "    U = vcat(d_0, d_1) # Utility matrix\n",
    "    return -U\n",
    "end\n",
    " \n",
    "u(m)"
   ]
  },
  {
   "cell_type": "code",
   "execution_count": 6,
   "metadata": {},
   "outputs": [
    {
     "data": {
      "text/plain": [
       "90×90 Array{Float64,2}:\n",
       " 0.348  0.639  0.013  0.0    0.0    …  0.0    0.0    0.0    0.0    0.0  \n",
       " 0.0    0.348  0.639  0.013  0.0       0.0    0.0    0.0    0.0    0.0  \n",
       " 0.0    0.0    0.348  0.639  0.013     0.0    0.0    0.0    0.0    0.0  \n",
       " 0.0    0.0    0.0    0.348  0.639     0.0    0.0    0.0    0.0    0.0  \n",
       " 0.0    0.0    0.0    0.0    0.348     0.0    0.0    0.0    0.0    0.0  \n",
       " 0.0    0.0    0.0    0.0    0.0    …  0.0    0.0    0.0    0.0    0.0  \n",
       " 0.0    0.0    0.0    0.0    0.0       0.0    0.0    0.0    0.0    0.0  \n",
       " 0.0    0.0    0.0    0.0    0.0       0.0    0.0    0.0    0.0    0.0  \n",
       " 0.0    0.0    0.0    0.0    0.0       0.0    0.0    0.0    0.0    0.0  \n",
       " 0.0    0.0    0.0    0.0    0.0       0.0    0.0    0.0    0.0    0.0  \n",
       " 0.0    0.0    0.0    0.0    0.0    …  0.0    0.0    0.0    0.0    0.0  \n",
       " 0.0    0.0    0.0    0.0    0.0       0.0    0.0    0.0    0.0    0.0  \n",
       " 0.0    0.0    0.0    0.0    0.0       0.0    0.0    0.0    0.0    0.0  \n",
       " ⋮                                  ⋱  ⋮                                \n",
       " 0.0    0.0    0.0    0.0    0.0       0.0    0.0    0.0    0.0    0.0  \n",
       " 0.0    0.0    0.0    0.0    0.0       0.0    0.0    0.0    0.0    0.0  \n",
       " 0.0    0.0    0.0    0.0    0.0    …  0.0    0.0    0.0    0.0    0.0  \n",
       " 0.0    0.0    0.0    0.0    0.0       0.0    0.0    0.0    0.0    0.0  \n",
       " 0.0    0.0    0.0    0.0    0.0       0.0    0.0    0.0    0.0    0.0  \n",
       " 0.0    0.0    0.0    0.0    0.0       0.013  0.0    0.0    0.0    0.0  \n",
       " 0.0    0.0    0.0    0.0    0.0       0.639  0.013  0.0    0.0    0.0  \n",
       " 0.0    0.0    0.0    0.0    0.0    …  0.348  0.639  0.013  0.0    0.0  \n",
       " 0.0    0.0    0.0    0.0    0.0       0.0    0.348  0.639  0.013  0.0  \n",
       " 0.0    0.0    0.0    0.0    0.0       0.0    0.0    0.348  0.639  0.013\n",
       " 0.0    0.0    0.0    0.0    0.0       0.0    0.0    0.0    0.348  0.652\n",
       " 0.0    0.0    0.0    0.0    0.0       0.0    0.0    0.0    0.0    1.0  "
      ]
     },
     "execution_count": 6,
     "metadata": {},
     "output_type": "execute_result"
    }
   ],
   "source": [
    "# Function to generate transition matrix\n",
    "function transition_probs(model::rustModel)\n",
    "    \n",
    "    t = length(model.ppi)\n",
    "    \n",
    "    ttmp = zeros(model.K - t, model.K) # Transition Probabilities\n",
    "    \n",
    "    for i in 1:model.K - t\n",
    "        for j in 0:t-1\n",
    "            ttmp[i, i + j] = m.ppi[j+1]\n",
    "        end\n",
    "    end\n",
    "    \n",
    "    atmp = zeros(t,t) # Absorbing State Probabilities\n",
    "    \n",
    "    for i in 0:t - 1\n",
    "        atmp[i+ 1,:] = [zeros(1,i) m.ppi[1:t - i - 1]' ( 1 - sum(m.ppi[1:t- i - 1]) ) ]\n",
    "    end\n",
    "    \n",
    "    return [ttmp ; zeros(t, model.K - t) atmp]\n",
    "    \n",
    "end;\n",
    " \n",
    "transition_probs(m)"
   ]
  },
  {
   "cell_type": "code",
   "execution_count": 7,
   "metadata": {},
   "outputs": [],
   "source": [
    "# Social surplus function\n",
    "# Two things to note\n",
    "# 1) This exploits the fact that the EV of replacing the engine is the same as not replacing an engine with 0 miles\n",
    "# 2) EV will be large so exp(large) -> Inf. \n",
    "function ss(model::rustModel)\n",
    "    ss_val = (  exp.(u(model)[1,:] .+ model.beta .* model.EV .- model.EV) +\n",
    "                exp.(u(model)[2,:] .+ model.beta .* model.EV[1] .- model.EV))\n",
    "    return model.EV + log.(ss_val)\n",
    "end;"
   ]
  },
  {
   "cell_type": "code",
   "execution_count": 8,
   "metadata": {},
   "outputs": [
    {
     "name": "stderr",
     "output_type": "stream",
     "text": [
      "┌ Warning: `a::AbstractArray + b::Number` is deprecated, use `a .+ b` instead.\n",
      "│   caller = ss(::rustModel) at In[7]:6\n",
      "└ @ Main ./In[7]:6\n"
     ]
    },
    {
     "name": "stdout",
     "output_type": "stream",
     "text": [
      "[-1718.29; -1718.54; -1718.78; -1719.02; -1719.25; -1719.48; -1719.71; -1719.92; -1720.14; -1720.34; -1720.54; -1720.74; -1720.93; -1721.12; -1721.3; -1721.47; -1721.65; -1721.81; -1721.97; -1722.13; -1722.28; -1722.42; -1722.57; -1722.7; -1722.84; -1722.96; -1723.09; -1723.21; -1723.32; -1723.43; -1723.54; -1723.64; -1723.74; -1723.84; -1723.93; -1724.02; -1724.11; -1724.19; -1724.27; -1724.35; -1724.42; -1724.49; -1724.56; -1724.63; -1724.69; -1724.76; -1724.82; -1724.87; -1724.93; -1724.98; -1725.04; -1725.09; -1725.14; -1725.18; -1725.23; -1725.27; -1725.32; -1725.36; -1725.4; -1725.44; -1725.47; -1725.51; -1725.55; -1725.58; -1725.62; -1725.65; -1725.68; -1725.71; -1725.74; -1725.77; -1725.8; -1725.83; -1725.85; -1725.88; -1725.91; -1725.93; -1725.95; -1725.98; -1726.0; -1726.02; -1726.04; -1726.06; -1726.08; -1726.1; -1726.11; -1726.13; -1726.14; -1726.15; -1726.15; -1726.15]\n"
     ]
    }
   ],
   "source": [
    "function contraction_mapping(model::rustModel)\n",
    "    P = sparse(transition_probs(model)) # Transition Matrix (K x K)\n",
    "    eps = 1 # Set epsilon to something greater than 0\n",
    "    while eps > .000001\n",
    "        EV1 = P * ss(model)\n",
    "        eps = maximum(abs.(EV1 .- model.EV))\n",
    "        model.EV = EV1\n",
    "    end\n",
    "end;\n",
    " \n",
    "m.EV = ones(1, m.K)'\n",
    "println(m.EV)"
   ]
  },
  {
   "cell_type": "code",
   "execution_count": 9,
   "metadata": {},
   "outputs": [],
   "source": [
    "# Choice probability function\n",
    "function choice_p(model::rustModel)\n",
    "    max_EV = maximum(model.EV)\n",
    "    P_k = exp.(u(model)[1,:] .+ model.beta .*  model.EV .- max_EV)./\n",
    "    (exp.(u( model )[1, :] .+ model.beta .*  model.EV .- max_EV ) + \n",
    "        exp.( u( model )[2,:] .+ model.beta .*  model.EV[1] .- max_EV ))\n",
    "    return P_k\n",
    "end;"
   ]
  },
  {
   "cell_type": "code",
   "execution_count": 10,
   "metadata": {},
   "outputs": [
    {
     "data": {
      "text/plain": [
       "ll (generic function with 1 method)"
      ]
     },
     "execution_count": 10,
     "metadata": {},
     "output_type": "execute_result"
    }
   ],
   "source": [
    "function partialLL(model::rustModel, data::rustData)\n",
    "    decision_obs = data.endog\n",
    "    state_obs = data.exog\n",
    "    cp_tmp = choice_p(model)\n",
    "    relevant_probs = [ cp_tmp[convert(Int, i)] for i in state_obs ]\n",
    "    pll = [ if decision == 0 log(r_p) else log(1.0 .- r_p) end for (decision, r_p) in zip(decision_obs, relevant_probs)]\n",
    "    return -sum(pll)\n",
    "end\n",
    " \n",
    "function ll(model::rustModel, data::rustData)\n",
    " \n",
    "    function objFunc(model_params)\n",
    "        model.model_params = model_params\n",
    "        contraction_mapping(model)\n",
    "        pll = partialLL(model, data)\n",
    "        return pll\n",
    "    end\n",
    " \n",
    "    params0 = [.01, 4]\n",
    "    optimum = optimize(objFunc, params0)\n",
    "    return optimum\n",
    "end"
   ]
  },
  {
   "cell_type": "code",
   "execution_count": 11,
   "metadata": {},
   "outputs": [
    {
     "data": {
      "text/plain": [
       "\".DS_Store\""
      ]
     },
     "execution_count": 11,
     "metadata": {},
     "output_type": "execute_result"
    }
   ],
   "source": [
    "file_names = readdir(\"data/nfxp\")\n",
    "popfirst!(file_names)"
   ]
  },
  {
   "cell_type": "code",
   "execution_count": 12,
   "metadata": {},
   "outputs": [],
   "source": [
    "# Load data\n",
    "data_frames = [CSV.read(\"data/nfxp/\" * file,datarow=1) for file in file_names];"
   ]
  },
  {
   "cell_type": "code",
   "execution_count": 13,
   "metadata": {},
   "outputs": [],
   "source": [
    "a452372 = reshape(data_frames[1][1], 137, 18);\n",
    "a452374 = reshape(data_frames[2][1], 137, 10);\n",
    "a530872 = reshape(data_frames[3][1], 137, 18);\n",
    "a530874 = reshape(data_frames[4][1], 137, 12);\n",
    "a530875 = reshape(data_frames[5][1], 128, 37);\n",
    "d309 = reshape(data_frames[6][1], 110, 4);\n",
    "g870 = reshape(data_frames[7][1], 36, 15);\n",
    "rt50 = reshape(data_frames[8][1], 60, 4);\n",
    "t8h203 = reshape(data_frames[9][1], 81, 48);"
   ]
  },
  {
   "cell_type": "code",
   "execution_count": 14,
   "metadata": {},
   "outputs": [
    {
     "name": "stderr",
     "output_type": "stream",
     "text": [
      "┌ Warning: `a::AbstractArray - b::Number` is deprecated, use `a .- b` instead.\n",
      "│   caller = build(::Array{Union{Missing, Int64},2}) at In[14]:24\n",
      "└ @ Main ./In[14]:24\n"
     ]
    }
   ],
   "source": [
    "n = 90; # Fixed point dimension\n",
    "omax = 450000; # Upper bound on the odometer reading\n",
    " \n",
    "rt = zeros(n,1);\n",
    "nt = copy(rt);\n",
    "rc = copy(rt);\n",
    "nc = copy(rt); \n",
    " \n",
    "milecnt=zeros(n,1);\n",
    " \n",
    "function build(input)\n",
    "    \n",
    "    dt = copy(input)\n",
    "    \n",
    "    # Get odometer values at replacement\n",
    "    ov1 = dt[6,:]'\n",
    "    ov2 = dt[9,:]'\n",
    " \n",
    "    # Get dimensions of the underlying data\n",
    "    nr = size(dt, 1);\n",
    "    nc = size(dt, 2);\n",
    "    #\n",
    "    dtc = (dt[12:nr,:] .>= ov1) .* (ov1 .> 0) + (dt[12:nr,:] .>= ov2) .* (ov2 .> 0);\n",
    "    dtx = dt[12:nr,:] .+ ov1 .* dtc .* (dtc-2) .- .5*ov2.*dtc.*(dtc .- 1.);\n",
    "    dtx = ceil.(n*dtx/omax);\n",
    "    #\n",
    "    dtc = vcat((dtc[2:nr-11,:] .- dtc[1:nr-12,:]), zeros(1, nc));\n",
    "    mil = (dtx[2:nr-11,:]-dtx[1:nr-12,:]) + dtx[1:nr-12,:].*dtc[1:nr-12,:];\n",
    "    df = DataFrame(dtc = copy(vec(dtc[2:nr-11,:])), dtx = copy(vec(dtx[2:nr-11,:])), mil = copy(vec(mil[:,:])));\n",
    "    return df\n",
    "end\n",
    " \n",
    "inputDataset = build(g870);\n",
    "for i in [rt50, t8h203, a530875 ]\n",
    "    inputDataset = vcat(inputDataset, build(i))\n",
    "end"
   ]
  },
  {
   "cell_type": "code",
   "execution_count": 15,
   "metadata": {},
   "outputs": [
    {
     "name": "stdout",
     "output_type": "stream",
     "text": [
      "1330.998281 seconds (964.43 M allocations: 240.751 GiB, 1.94% gc time)\n"
     ]
    },
    {
     "data": {
      "text/plain": [
       "Results of Optimization Algorithm\n",
       " * Algorithm: Nelder-Mead\n",
       " * Starting Point: [0.01,4.0]\n",
       " * Minimizer: [2.6276530118571824,9.758420909137534]\n",
       " * Minimum: 3.002502e+02\n",
       " * Iterations: 52\n",
       " * Convergence: true\n",
       "   *  √(Σ(yᵢ-ȳ)²)/n < 1.0e-08: true\n",
       "   * Reached Maximum Number of Iterations: false\n",
       " * Objective Calls: 98"
      ]
     },
     "execution_count": 15,
     "metadata": {},
     "output_type": "execute_result"
    }
   ],
   "source": [
    "m = rustModel()\n",
    " \n",
    "rd = rustData()\n",
    "rd.endog = inputDataset[1]\n",
    "rd.exog = inputDataset[2]\n",
    " \n",
    "pi_1 = sum( [x == 0 for x in inputDataset[3] ] )/length(inputDataset[3])\n",
    "pi_2 = sum( [x == 1 for x in inputDataset[3] ] )/length(inputDataset[3])\n",
    "pi_3 = 1 - pi_1 - pi_2\n",
    " \n",
    "m.ppi = [ pi_1, pi_2, pi_3 ]\n",
    " \n",
    "@time ll( m, rd )"
   ]
  },
  {
   "cell_type": "code",
   "execution_count": null,
   "metadata": {},
   "outputs": [],
   "source": []
  }
 ],
 "metadata": {
  "kernelspec": {
   "display_name": "Julia 0.7.0",
   "language": "julia",
   "name": "julia-0.7"
  },
  "language_info": {
   "file_extension": ".jl",
   "mimetype": "application/julia",
   "name": "julia",
   "version": "0.7.0"
  }
 },
 "nbformat": 4,
 "nbformat_minor": 2
}
