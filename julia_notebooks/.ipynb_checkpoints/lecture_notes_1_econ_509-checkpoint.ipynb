{
 "cells": [
  {
   "cell_type": "markdown",
   "metadata": {},
   "source": [
    "## Problem 1\n",
    "If we have a constant elasticity demand function, $q=\\frac{1}{2}p^{-0.2} + \\frac{1}{2}p^{-0.5}$ and a quantity demanded of q=2, what market price clears the market?\n",
    "\n",
    "This has no known closed form solution, but we can solve it numerically with Newton's method."
   ]
  },
  {
   "cell_type": "code",
   "execution_count": 1,
   "metadata": {},
   "outputs": [
    {
     "name": "stderr",
     "output_type": "stream",
     "text": [
      "┌ Info: Precompiling NLsolve [2774e3e8-f4cf-5e23-947b-6d7e65073b56]\n",
      "└ @ Base loading.jl:1187\n"
     ]
    },
    {
     "data": {
      "image/png": "[encoded data removed]",
      "image/svg+xml": [
       "<?xml version=\"1.0\" encoding=\"utf-8\"?>\n",
       "<svg xmlns=\"http://www.w3.org/2000/svg\" xmlns:xlink=\"http://www.w3.org/1999/xlink\" width=\"125\" height=\"125\" viewBox=\"0 0 500 500\">\n",
       "<defs>\n",
       "  <clipPath id=\"clip6700\">\n",
       "    <rect x=\"0\" y=\"0\" width=\"2000\" height=\"2000\"/>\n",
       "  </clipPath>\n",
       "</defs>\n",
       "<defs>\n",
       "  <clipPath id=\"clip6701\">\n",
       "    <rect x=\"0\" y=\"0\" width=\"500\" height=\"500\"/>\n",
       "  </clipPath>\n",
       "</defs>\n",
       "<polygon clip-path=\"url(#clip6701)\" points=\"\n",
       "0,500 500,500 500,0 0,0 \n",
       "  \" fill=\"#ffffff\" fill-rule=\"evenodd\" fill-opacity=\"1\"/>\n",
       "<defs>\n",
       "  <clipPath id=\"clip6702\">\n",
       "    <rect x=\"100\" y=\"50\" width=\"351\" height=\"351\"/>\n",
       "  </clipPath>\n",
       "</defs>\n",
       "<polygon clip-path=\"url(#clip6701)\" points=\"\n",
       "64.4598,455.929 480.315,455.929 480.315,31.4961 64.4598,31.4961 \n",
       "  \" fill=\"#ffffff\" fill-rule=\"evenodd\" fill-opacity=\"1\"/>\n",
       "<defs>\n",
       "  <clipPath id=\"clip6703\">\n",
       "    <rect x=\"64\" y=\"31\" width=\"417\" height=\"425\"/>\n",
       "  </clipPath>\n",
       "</defs>\n",
       "<polyline clip-path=\"url(#clip6701)\" style=\"stroke:#000000; stroke-width:1; stroke-opacity:1; fill:none\" points=\"\n",
       "  64.4598,455.929 480.315,455.929 \n",
       "  \"/>\n",
       "<polyline clip-path=\"url(#clip6701)\" style=\"stroke:#000000; stroke-width:1; stroke-opacity:1; fill:none\" points=\"\n",
       "  64.4598,455.929 64.4598,31.4961 \n",
       "  \"/>\n",
       "<polyline clip-path=\"url(#clip6701)\" style=\"stroke:#000000; stroke-width:1; stroke-opacity:1; fill:none\" points=\"\n",
       "  76.2293,455.929 76.2293,449.563 \n",
       "  \"/>\n",
       "<polyline clip-path=\"url(#clip6701)\" style=\"stroke:#000000; stroke-width:1; stroke-opacity:1; fill:none\" points=\"\n",
       "  174.308,455.929 174.308,449.563 \n",
       "  \"/>\n",
       "<polyline clip-path=\"url(#clip6701)\" style=\"stroke:#000000; stroke-width:1; stroke-opacity:1; fill:none\" points=\"\n",
       "  272.387,455.929 272.387,449.563 \n",
       "  \"/>\n",
       "<polyline clip-path=\"url(#clip6701)\" style=\"stroke:#000000; stroke-width:1; stroke-opacity:1; fill:none\" points=\"\n",
       "  370.466,455.929 370.466,449.563 \n",
       "  \"/>\n",
       "<polyline clip-path=\"url(#clip6701)\" style=\"stroke:#000000; stroke-width:1; stroke-opacity:1; fill:none\" points=\"\n",
       "  468.545,455.929 468.545,449.563 \n",
       "  \"/>\n",
       "<polyline clip-path=\"url(#clip6701)\" style=\"stroke:#000000; stroke-width:1; stroke-opacity:1; fill:none\" points=\"\n",
       "  64.4598,449.508 70.6976,449.508 \n",
       "  \"/>\n",
       "<polyline clip-path=\"url(#clip6701)\" style=\"stroke:#000000; stroke-width:1; stroke-opacity:1; fill:none\" points=\"\n",
       "  64.4598,378.725 70.6976,378.725 \n",
       "  \"/>\n",
       "<polyline clip-path=\"url(#clip6701)\" style=\"stroke:#000000; stroke-width:1; stroke-opacity:1; fill:none\" points=\"\n",
       "  64.4598,307.942 70.6976,307.942 \n",
       "  \"/>\n",
       "<polyline clip-path=\"url(#clip6701)\" style=\"stroke:#000000; stroke-width:1; stroke-opacity:1; fill:none\" points=\"\n",
       "  64.4598,237.16 70.6976,237.16 \n",
       "  \"/>\n",
       "<polyline clip-path=\"url(#clip6701)\" style=\"stroke:#000000; stroke-width:1; stroke-opacity:1; fill:none\" points=\"\n",
       "  64.4598,166.377 70.6976,166.377 \n",
       "  \"/>\n",
       "<polyline clip-path=\"url(#clip6701)\" style=\"stroke:#000000; stroke-width:1; stroke-opacity:1; fill:none\" points=\"\n",
       "  64.4598,95.5941 70.6976,95.5941 \n",
       "  \"/>\n",
       "<g clip-path=\"url(#clip6701)\">\n",
       "<text style=\"fill:#000000; fill-opacity:1; font-family:Arial,Helvetica Neue,Helvetica,sans-serif; font-size:18px; text-anchor:middle;\" transform=\"rotate(0, 76.2293, 474.029)\" x=\"76.2293\" y=\"474.029\">0.100</text>\n",
       "</g>\n",
       "<g clip-path=\"url(#clip6701)\">\n",
       "<text style=\"fill:#000000; fill-opacity:1; font-family:Arial,Helvetica Neue,Helvetica,sans-serif; font-size:18px; text-anchor:middle;\" transform=\"rotate(0, 174.308, 474.029)\" x=\"174.308\" y=\"474.029\">0.125</text>\n",
       "</g>\n",
       "<g clip-path=\"url(#clip6701)\">\n",
       "<text style=\"fill:#000000; fill-opacity:1; font-family:Arial,Helvetica Neue,Helvetica,sans-serif; font-size:18px; text-anchor:middle;\" transform=\"rotate(0, 272.387, 474.029)\" x=\"272.387\" y=\"474.029\">0.150</text>\n",
       "</g>\n",
       "<g clip-path=\"url(#clip6701)\">\n",
       "<text style=\"fill:#000000; fill-opacity:1; font-family:Arial,Helvetica Neue,Helvetica,sans-serif; font-size:18px; text-anchor:middle;\" transform=\"rotate(0, 370.466, 474.029)\" x=\"370.466\" y=\"474.029\">0.175</text>\n",
       "</g>\n",
       "<g clip-path=\"url(#clip6701)\">\n",
       "<text style=\"fill:#000000; fill-opacity:1; font-family:Arial,Helvetica Neue,Helvetica,sans-serif; font-size:18px; text-anchor:middle;\" transform=\"rotate(0, 468.545, 474.029)\" x=\"468.545\" y=\"474.029\">0.200</text>\n",
       "</g>\n",
       "<g clip-path=\"url(#clip6701)\">\n",
       "<text style=\"fill:#000000; fill-opacity:1; font-family:Arial,Helvetica Neue,Helvetica,sans-serif; font-size:18px; text-anchor:end;\" transform=\"rotate(0, 59.4598, 456.008)\" x=\"59.4598\" y=\"456.008\">1.8</text>\n",
       "</g>\n",
       "<g clip-path=\"url(#clip6701)\">\n",
       "<text style=\"fill:#000000; fill-opacity:1; font-family:Arial,Helvetica Neue,Helvetica,sans-serif; font-size:18px; text-anchor:end;\" transform=\"rotate(0, 59.4598, 385.225)\" x=\"59.4598\" y=\"385.225\">1.9</text>\n",
       "</g>\n",
       "<g clip-path=\"url(#clip6701)\">\n",
       "<text style=\"fill:#000000; fill-opacity:1; font-family:Arial,Helvetica Neue,Helvetica,sans-serif; font-size:18px; text-anchor:end;\" transform=\"rotate(0, 59.4598, 314.442)\" x=\"59.4598\" y=\"314.442\">2.0</text>\n",
       "</g>\n",
       "<g clip-path=\"url(#clip6701)\">\n",
       "<text style=\"fill:#000000; fill-opacity:1; font-family:Arial,Helvetica Neue,Helvetica,sans-serif; font-size:18px; text-anchor:end;\" transform=\"rotate(0, 59.4598, 243.66)\" x=\"59.4598\" y=\"243.66\">2.1</text>\n",
       "</g>\n",
       "<g clip-path=\"url(#clip6701)\">\n",
       "<text style=\"fill:#000000; fill-opacity:1; font-family:Arial,Helvetica Neue,Helvetica,sans-serif; font-size:18px; text-anchor:end;\" transform=\"rotate(0, 59.4598, 172.877)\" x=\"59.4598\" y=\"172.877\">2.2</text>\n",
       "</g>\n",
       "<g clip-path=\"url(#clip6701)\">\n",
       "<text style=\"fill:#000000; fill-opacity:1; font-family:Arial,Helvetica Neue,Helvetica,sans-serif; font-size:18px; text-anchor:end;\" transform=\"rotate(0, 59.4598, 102.094)\" x=\"59.4598\" y=\"102.094\">2.3</text>\n",
       "</g>\n",
       "<g clip-path=\"url(#clip6701)\">\n",
       "<text style=\"fill:#000000; fill-opacity:1; font-family:Arial,Helvetica Neue,Helvetica,sans-serif; font-size:21px; text-anchor:middle;\" transform=\"rotate(0, 272.387, 18)\" x=\"272.387\" y=\"18\">Where&apos;s the root?</text>\n",
       "</g>\n",
       "<g clip-path=\"url(#clip6701)\">\n",
       "<text style=\"fill:#000000; fill-opacity:1; font-family:Arial,Helvetica Neue,Helvetica,sans-serif; font-size:16px; text-anchor:middle;\" transform=\"rotate(0, 272.387, 497.6)\" x=\"272.387\" y=\"497.6\">X</text>\n",
       "</g>\n",
       "<g clip-path=\"url(#clip6701)\">\n",
       "<text style=\"fill:#000000; fill-opacity:1; font-family:Arial,Helvetica Neue,Helvetica,sans-serif; font-size:16px; text-anchor:middle;\" transform=\"rotate(-90, 14.4, 243.713)\" x=\"14.4\" y=\"243.713\">Y</text>\n",
       "</g>\n",
       "<polyline clip-path=\"url(#clip6703)\" style=\"stroke:#ff0000; stroke-width:3; stroke-opacity:1; fill:none\" points=\"\n",
       "  76.2293,43.5083 76.622,44.1803 77.0147,44.8513 77.4074,45.5213 77.8001,46.1903 78.1928,46.8584 78.5855,47.5255 78.9782,48.1916 79.3709,48.8568 79.7636,49.5211 \n",
       "  80.1563,50.1843 80.5491,50.8467 80.9418,51.508 81.3345,52.1685 81.7272,52.8279 82.1199,53.4865 82.5126,54.1441 82.9053,54.8007 83.298,55.4565 83.6907,56.1113 \n",
       "  84.0834,56.7651 84.4761,57.418 84.8689,58.07 85.2616,58.7211 85.6543,59.3713 86.047,60.0205 86.4397,60.6688 86.8324,61.3162 87.2251,61.9627 87.6178,62.6083 \n",
       "  88.0105,63.2529 88.4032,63.8967 88.7959,64.5395 89.1887,65.1815 89.5814,65.8225 89.9741,66.4627 90.3668,67.1019 90.7595,67.7403 91.1522,68.3777 91.5449,69.0143 \n",
       "  91.9376,69.65 92.3303,70.2848 92.723,70.9187 93.1157,71.5517 93.5085,72.1839 93.9012,72.8152 94.2939,73.4456 94.6866,74.0751 95.0793,74.7037 95.472,75.3315 \n",
       "  95.8647,75.9584 96.2574,76.5845 96.6501,77.2097 97.0428,77.834 97.4355,78.4575 97.8282,79.0801 98.221,79.7018 98.6137,80.3227 99.0064,80.9428 99.3991,81.562 \n",
       "  99.7918,82.1803 100.185,82.7978 100.577,83.4145 100.97,84.0303 101.363,84.6453 101.755,85.2594 102.148,85.8727 102.541,86.4852 102.933,87.0969 103.326,87.7077 \n",
       "  103.719,88.3177 104.112,88.9268 104.504,89.5351 104.897,90.1426 105.29,90.7493 105.682,91.3552 106.075,91.9603 106.468,92.5645 106.861,93.1679 107.253,93.7705 \n",
       "  107.646,94.3723 108.039,94.9733 108.431,95.5735 108.824,96.1729 109.217,96.7715 109.61,97.3693 110.002,97.9663 110.395,98.5625 110.788,99.1579 111.18,99.7525 \n",
       "  111.573,100.346 111.966,100.939 112.358,101.532 112.751,102.123 113.144,102.714 113.537,103.304 113.929,103.893 114.322,104.481 114.715,105.068 115.107,105.655 \n",
       "  115.5,106.241 115.893,106.826 116.286,107.411 116.678,107.995 117.071,108.578 117.464,109.16 117.856,109.741 118.249,110.322 118.642,110.902 119.035,111.481 \n",
       "  119.427,112.059 119.82,112.637 120.213,113.213 120.605,113.79 120.998,114.365 121.391,114.939 121.783,115.513 122.176,116.086 122.569,116.659 122.962,117.23 \n",
       "  123.354,117.801 123.747,118.371 124.14,118.941 124.532,119.509 124.925,120.077 125.318,120.645 125.711,121.211 126.103,121.777 126.496,122.342 126.889,122.906 \n",
       "  127.281,123.47 127.674,124.033 128.067,124.595 128.46,125.156 128.852,125.717 129.245,126.277 129.638,126.836 130.03,127.395 130.423,127.952 130.816,128.509 \n",
       "  131.209,129.066 131.601,129.622 131.994,130.177 132.387,130.731 132.779,131.284 133.172,131.837 133.565,132.39 133.957,132.941 134.35,133.492 134.743,134.042 \n",
       "  135.136,134.591 135.528,135.14 135.921,135.688 136.314,136.235 136.706,136.782 137.099,137.328 137.492,137.873 137.885,138.418 138.277,138.962 138.67,139.505 \n",
       "  139.063,140.048 139.455,140.589 139.848,141.131 140.241,141.671 140.634,142.211 141.026,142.75 141.419,143.289 141.812,143.827 142.204,144.364 142.597,144.9 \n",
       "  142.99,145.436 143.382,145.971 143.775,146.506 144.168,147.04 144.561,147.573 144.953,148.105 145.346,148.637 145.739,149.168 146.131,149.699 146.524,150.229 \n",
       "  146.917,150.758 147.31,151.287 147.702,151.815 148.095,152.342 148.488,152.869 148.88,153.395 149.273,153.92 149.666,154.445 150.059,154.969 150.451,155.493 \n",
       "  150.844,156.015 151.237,156.538 151.629,157.059 152.022,157.58 152.415,158.1 152.807,158.62 153.2,159.139 153.593,159.658 153.986,160.175 154.378,160.693 \n",
       "  154.771,161.209 155.164,161.725 155.556,162.24 155.949,162.755 156.342,163.269 156.735,163.782 157.127,164.295 157.52,164.807 157.913,165.319 158.305,165.83 \n",
       "  158.698,166.34 159.091,166.85 159.484,167.359 159.876,167.868 160.269,168.376 160.662,168.883 161.054,169.39 161.447,169.896 161.84,170.401 162.233,170.906 \n",
       "  162.625,171.411 163.018,171.914 163.411,172.417 163.803,172.92 164.196,173.422 164.589,173.923 164.981,174.424 165.374,174.924 165.767,175.424 166.16,175.923 \n",
       "  166.552,176.421 166.945,176.919 167.338,177.416 167.73,177.913 168.123,178.409 168.516,178.904 168.909,179.399 169.301,179.893 169.694,180.387 170.087,180.88 \n",
       "  170.479,181.373 170.872,181.865 171.265,182.356 171.658,182.847 172.05,183.337 172.443,183.827 172.836,184.316 173.228,184.805 173.621,185.293 174.014,185.78 \n",
       "  174.406,186.267 174.799,186.753 175.192,187.239 175.585,187.724 175.977,188.209 176.37,188.693 176.763,189.176 177.155,189.659 177.548,190.142 177.941,190.623 \n",
       "  178.334,191.105 178.726,191.585 179.119,192.066 179.512,192.545 179.904,193.024 180.297,193.503 180.69,193.981 181.083,194.458 181.475,194.935 181.868,195.411 \n",
       "  182.261,195.887 182.653,196.362 183.046,196.837 183.439,197.311 183.832,197.785 184.224,198.258 184.617,198.731 185.01,199.203 185.402,199.674 185.795,200.145 \n",
       "  186.188,200.615 186.58,201.085 186.973,201.555 187.366,202.024 187.759,202.492 188.151,202.96 188.544,203.427 188.937,203.894 189.329,204.36 189.722,204.825 \n",
       "  190.115,205.291 190.508,205.755 190.9,206.219 191.293,206.683 191.686,207.146 192.078,207.609 192.471,208.071 192.864,208.532 193.257,208.993 193.649,209.454 \n",
       "  194.042,209.914 194.435,210.373 194.827,210.832 195.22,211.29 195.613,211.748 196.005,212.206 196.398,212.663 196.791,213.119 197.184,213.575 197.576,214.03 \n",
       "  197.969,214.485 198.362,214.94 198.754,215.394 199.147,215.847 199.54,216.3 199.933,216.752 200.325,217.204 200.718,217.656 201.111,218.107 201.503,218.557 \n",
       "  201.896,219.007 202.289,219.456 202.682,219.905 203.074,220.354 203.467,220.802 203.86,221.249 204.252,221.696 204.645,222.143 205.038,222.589 205.43,223.034 \n",
       "  205.823,223.479 206.216,223.924 206.609,224.368 207.001,224.811 207.394,225.254 207.787,225.697 208.179,226.139 208.572,226.581 208.965,227.022 209.358,227.463 \n",
       "  209.75,227.903 210.143,228.343 210.536,228.782 210.928,229.221 211.321,229.659 211.714,230.097 212.107,230.534 212.499,230.971 212.892,231.408 213.285,231.844 \n",
       "  213.677,232.279 214.07,232.714 214.463,233.149 214.856,233.583 215.248,234.017 215.641,234.45 216.034,234.883 216.426,235.315 216.819,235.747 217.212,236.178 \n",
       "  217.604,236.609 217.997,237.039 218.39,237.469 218.783,237.899 219.175,238.328 219.568,238.756 219.961,239.185 220.353,239.612 220.746,240.039 221.139,240.466 \n",
       "  221.532,240.893 221.924,241.319 222.317,241.744 222.71,242.169 223.102,242.594 223.495,243.018 223.888,243.441 224.281,243.864 224.673,244.287 225.066,244.71 \n",
       "  225.459,245.131 225.851,245.553 226.244,245.974 226.637,246.394 227.029,246.815 227.422,247.234 227.815,247.653 228.208,248.072 228.6,248.491 228.993,248.909 \n",
       "  229.386,249.326 229.778,249.743 230.171,250.16 230.564,250.576 230.957,250.992 231.349,251.407 231.742,251.822 232.135,252.236 232.527,252.65 232.92,253.064 \n",
       "  233.313,253.477 233.706,253.89 234.098,254.302 234.491,254.714 234.884,255.126 235.276,255.537 235.669,255.947 236.062,256.358 236.454,256.767 236.847,257.177 \n",
       "  237.24,257.586 237.633,257.994 238.025,258.402 238.418,258.81 238.811,259.217 239.203,259.624 239.596,260.031 239.989,260.437 240.382,260.842 240.774,261.247 \n",
       "  241.167,261.652 241.56,262.057 241.952,262.461 242.345,262.864 242.738,263.267 243.131,263.67 243.523,264.072 243.916,264.474 244.309,264.876 244.701,265.277 \n",
       "  245.094,265.678 245.487,266.078 245.88,266.478 246.272,266.877 246.665,267.276 247.058,267.675 247.45,268.073 247.843,268.471 248.236,268.869 248.628,269.266 \n",
       "  249.021,269.662 249.414,270.059 249.807,270.455 250.199,270.85 250.592,271.245 250.985,271.64 251.377,272.034 251.77,272.428 252.163,272.822 252.556,273.215 \n",
       "  252.948,273.607 253.341,274 253.734,274.392 254.126,274.783 254.519,275.174 254.912,275.565 255.305,275.956 255.697,276.346 256.09,276.735 256.483,277.124 \n",
       "  256.875,277.513 257.268,277.902 257.661,278.29 258.053,278.678 258.446,279.065 258.839,279.452 259.232,279.838 259.624,280.225 260.017,280.61 260.41,280.996 \n",
       "  260.802,281.381 261.195,281.765 261.588,282.15 261.981,282.534 262.373,282.917 262.766,283.3 263.159,283.683 263.551,284.065 263.944,284.447 264.337,284.829 \n",
       "  264.73,285.21 265.122,285.591 265.515,285.972 265.908,286.352 266.3,286.732 266.693,287.111 267.086,287.49 267.479,287.869 267.871,288.247 268.264,288.625 \n",
       "  268.657,289.003 269.049,289.38 269.442,289.757 269.835,290.133 270.227,290.509 270.62,290.885 271.013,291.26 271.406,291.635 271.798,292.01 272.191,292.384 \n",
       "  272.584,292.758 272.976,293.132 273.369,293.505 273.762,293.878 274.155,294.25 274.547,294.623 274.94,294.994 275.333,295.366 275.725,295.737 276.118,296.108 \n",
       "  276.511,296.478 276.904,296.848 277.296,297.218 277.689,297.587 278.082,297.956 278.474,298.324 278.867,298.693 279.26,299.061 279.652,299.428 280.045,299.795 \n",
       "  280.438,300.162 280.831,300.529 281.223,300.895 281.616,301.261 282.009,301.626 282.401,301.991 282.794,302.356 283.187,302.72 283.58,303.084 283.972,303.448 \n",
       "  284.365,303.811 284.758,304.175 285.15,304.537 285.543,304.9 285.936,305.262 286.329,305.623 286.721,305.985 287.114,306.346 287.507,306.706 287.899,307.067 \n",
       "  288.292,307.427 288.685,307.786 289.077,308.145 289.47,308.504 289.863,308.863 290.256,309.221 290.648,309.579 291.041,309.937 291.434,310.294 291.826,310.651 \n",
       "  292.219,311.008 292.612,311.364 293.005,311.72 293.397,312.076 293.79,312.431 294.183,312.786 294.575,313.141 294.968,313.495 295.361,313.849 295.754,314.203 \n",
       "  296.146,314.556 296.539,314.909 296.932,315.262 297.324,315.614 297.717,315.966 298.11,316.318 298.503,316.669 298.895,317.02 299.288,317.371 299.681,317.721 \n",
       "  300.073,318.071 300.466,318.421 300.859,318.77 301.251,319.119 301.644,319.468 302.037,319.817 302.43,320.165 302.822,320.513 303.215,320.86 303.608,321.207 \n",
       "  304,321.554 304.393,321.901 304.786,322.247 305.179,322.593 305.571,322.939 305.964,323.284 306.357,323.629 306.749,323.974 307.142,324.318 307.535,324.662 \n",
       "  307.928,325.006 308.32,325.349 308.713,325.692 309.106,326.035 309.498,326.378 309.891,326.72 310.284,327.062 310.676,327.403 311.069,327.744 311.462,328.085 \n",
       "  311.855,328.426 312.247,328.766 312.64,329.106 313.033,329.446 313.425,329.785 313.818,330.124 314.211,330.463 314.604,330.802 314.996,331.14 315.389,331.478 \n",
       "  315.782,331.815 316.174,332.153 316.567,332.49 316.96,332.826 317.353,333.163 317.745,333.499 318.138,333.834 318.531,334.17 318.923,334.505 319.316,334.84 \n",
       "  319.709,335.175 320.102,335.509 320.494,335.843 320.887,336.176 321.28,336.51 321.672,336.843 322.065,337.176 322.458,337.508 322.85,337.84 323.243,338.172 \n",
       "  323.636,338.504 324.029,338.835 324.421,339.166 324.814,339.497 325.207,339.827 325.599,340.158 325.992,340.487 326.385,340.817 326.778,341.146 327.17,341.475 \n",
       "  327.563,341.804 327.956,342.132 328.348,342.46 328.741,342.788 329.134,343.116 329.527,343.443 329.919,343.77 330.312,344.097 330.705,344.423 331.097,344.749 \n",
       "  331.49,345.075 331.883,345.401 332.275,345.726 332.668,346.051 333.061,346.375 333.454,346.7 333.846,347.024 334.239,347.348 334.632,347.671 335.024,347.995 \n",
       "  335.417,348.318 335.81,348.64 336.203,348.963 336.595,349.285 336.988,349.607 337.381,349.928 337.773,350.25 338.166,350.571 338.559,350.891 338.952,351.212 \n",
       "  339.344,351.532 339.737,351.852 340.13,352.172 340.522,352.491 340.915,352.81 341.308,353.129 341.7,353.447 342.093,353.766 342.486,354.084 342.879,354.401 \n",
       "  343.271,354.719 343.664,355.036 344.057,355.353 344.449,355.669 344.842,355.986 345.235,356.302 345.628,356.618 346.02,356.933 346.413,357.249 346.806,357.564 \n",
       "  347.198,357.878 347.591,358.193 347.984,358.507 348.377,358.821 348.769,359.135 349.162,359.448 349.555,359.761 349.947,360.074 350.34,360.387 350.733,360.699 \n",
       "  351.126,361.011 351.518,361.323 351.911,361.634 352.304,361.946 352.696,362.257 353.089,362.567 353.482,362.878 353.874,363.188 354.267,363.498 354.66,363.808 \n",
       "  355.053,364.117 355.445,364.426 355.838,364.735 356.231,365.044 356.623,365.352 357.016,365.66 357.409,365.968 357.802,366.276 358.194,366.583 358.587,366.89 \n",
       "  358.98,367.197 359.372,367.504 359.765,367.81 360.158,368.116 360.551,368.422 360.943,368.727 361.336,369.033 361.729,369.338 362.121,369.643 362.514,369.947 \n",
       "  362.907,370.251 363.299,370.555 363.692,370.859 364.085,371.163 364.478,371.466 364.87,371.769 365.263,372.072 365.656,372.374 366.048,372.677 366.441,372.979 \n",
       "  366.834,373.28 367.227,373.582 367.619,373.883 368.012,374.184 368.405,374.485 368.797,374.785 369.19,375.086 369.583,375.386 369.976,375.685 370.368,375.985 \n",
       "  370.761,376.284 371.154,376.583 371.546,376.882 371.939,377.181 372.332,377.479 372.724,377.777 373.117,378.075 373.51,378.372 373.903,378.67 374.295,378.967 \n",
       "  374.688,379.263 375.081,379.56 375.473,379.856 375.866,380.152 376.259,380.448 376.652,380.744 377.044,381.039 377.437,381.334 377.83,381.629 378.222,381.924 \n",
       "  378.615,382.218 379.008,382.512 379.401,382.806 379.793,383.1 380.186,383.394 380.579,383.687 380.971,383.98 381.364,384.272 381.757,384.565 382.15,384.857 \n",
       "  382.542,385.149 382.935,385.441 383.328,385.733 383.72,386.024 384.113,386.315 384.506,386.606 384.898,386.896 385.291,387.187 385.684,387.477 386.077,387.767 \n",
       "  386.469,388.056 386.862,388.346 387.255,388.635 387.647,388.924 388.04,389.213 388.433,389.501 388.826,389.79 389.218,390.078 389.611,390.365 390.004,390.653 \n",
       "  390.396,390.94 390.789,391.227 391.182,391.514 391.575,391.801 391.967,392.087 392.36,392.374 392.753,392.66 393.145,392.945 393.538,393.231 393.931,393.516 \n",
       "  394.323,393.801 394.716,394.086 395.109,394.371 395.502,394.655 395.894,394.939 396.287,395.223 396.68,395.507 397.072,395.79 397.465,396.074 397.858,396.357 \n",
       "  398.251,396.639 398.643,396.922 399.036,397.204 399.429,397.486 399.821,397.768 400.214,398.05 400.607,398.331 401,398.613 401.392,398.894 401.785,399.174 \n",
       "  402.178,399.455 402.57,399.735 402.963,400.016 403.356,400.295 403.749,400.575 404.141,400.855 404.534,401.134 404.927,401.413 405.319,401.692 405.712,401.97 \n",
       "  406.105,402.249 406.497,402.527 406.89,402.805 407.283,403.083 407.676,403.36 408.068,403.637 408.461,403.914 408.854,404.191 409.246,404.468 409.639,404.744 \n",
       "  410.032,405.02 410.425,405.296 410.817,405.572 411.21,405.848 411.603,406.123 411.995,406.398 412.388,406.673 412.781,406.948 413.174,407.222 413.566,407.497 \n",
       "  413.959,407.771 414.352,408.045 414.744,408.318 415.137,408.592 415.53,408.865 415.922,409.138 416.315,409.411 416.708,409.683 417.101,409.956 417.493,410.228 \n",
       "  417.886,410.5 418.279,410.772 418.671,411.043 419.064,411.314 419.457,411.586 419.85,411.856 420.242,412.127 420.635,412.398 421.028,412.668 421.42,412.938 \n",
       "  421.813,413.208 422.206,413.478 422.599,413.747 422.991,414.016 423.384,414.285 423.777,414.554 424.169,414.823 424.562,415.091 424.955,415.359 425.347,415.627 \n",
       "  425.74,415.895 426.133,416.163 426.526,416.43 426.918,416.697 427.311,416.964 427.704,417.231 428.096,417.498 428.489,417.764 428.882,418.03 429.275,418.296 \n",
       "  429.667,418.562 430.06,418.828 430.453,419.093 430.845,419.358 431.238,419.623 431.631,419.888 432.024,420.153 432.416,420.417 432.809,420.681 433.202,420.945 \n",
       "  433.594,421.209 433.987,421.473 434.38,421.736 434.773,421.999 435.165,422.262 435.558,422.525 435.951,422.787 436.343,423.05 436.736,423.312 437.129,423.574 \n",
       "  437.521,423.836 437.914,424.097 438.307,424.359 438.7,424.62 439.092,424.881 439.485,425.142 439.878,425.403 440.27,425.663 440.663,425.923 441.056,426.183 \n",
       "  441.449,426.443 441.841,426.703 442.234,426.962 442.627,427.221 443.019,427.48 443.412,427.739 443.805,427.998 444.198,428.257 444.59,428.515 444.983,428.773 \n",
       "  445.376,429.031 445.768,429.289 446.161,429.546 446.554,429.803 446.946,430.061 447.339,430.318 447.732,430.574 448.125,430.831 448.517,431.087 448.91,431.343 \n",
       "  449.303,431.6 449.695,431.855 450.088,432.111 450.481,432.366 450.874,432.622 451.266,432.877 451.659,433.132 452.052,433.386 452.444,433.641 452.837,433.895 \n",
       "  453.23,434.149 453.623,434.403 454.015,434.657 454.408,434.91 454.801,435.164 455.193,435.417 455.586,435.67 455.979,435.923 456.371,436.176 456.764,436.428 \n",
       "  457.157,436.68 457.55,436.932 457.942,437.184 458.335,437.436 458.728,437.688 459.12,437.939 459.513,438.19 459.906,438.441 460.299,438.692 460.691,438.942 \n",
       "  461.084,439.193 461.477,439.443 461.869,439.693 462.262,439.943 462.655,440.193 463.048,440.442 463.44,440.692 463.833,440.941 464.226,441.19 464.618,441.439 \n",
       "  465.011,441.687 465.404,441.936 465.797,442.184 466.189,442.432 466.582,442.68 466.975,442.928 467.367,443.175 467.76,443.423 468.153,443.67 468.545,443.917 \n",
       "  \n",
       "  \"/>\n",
       "<polyline clip-path=\"url(#clip6703)\" style=\"stroke:#ff0000; stroke-width:3; stroke-opacity:1; fill:none\" points=\"\n",
       "  464.193,436.749 468.545,443.917 460.2,443.098 \n",
       "  \"/>\n",
       "<polyline clip-path=\"url(#clip6703)\" style=\"stroke:#ff0000; stroke-width:3; stroke-opacity:1; fill:none\" points=\"\n",
       "  468.545,443.917 468.153,443.67 \n",
       "  \"/>\n",
       "<polyline clip-path=\"url(#clip6703)\" style=\"stroke:#0000ff; stroke-width:3; stroke-opacity:1; fill:none\" stroke-dasharray=\"12, 8\" points=\"\n",
       "  76.2293,307.942 76.622,307.942 77.0147,307.942 77.4074,307.942 77.8001,307.942 78.1928,307.942 78.5855,307.942 78.9782,307.942 79.3709,307.942 79.7636,307.942 \n",
       "  80.1563,307.942 80.5491,307.942 80.9418,307.942 81.3345,307.942 81.7272,307.942 82.1199,307.942 82.5126,307.942 82.9053,307.942 83.298,307.942 83.6907,307.942 \n",
       "  84.0834,307.942 84.4761,307.942 84.8689,307.942 85.2616,307.942 85.6543,307.942 86.047,307.942 86.4397,307.942 86.8324,307.942 87.2251,307.942 87.6178,307.942 \n",
       "  88.0105,307.942 88.4032,307.942 88.7959,307.942 89.1887,307.942 89.5814,307.942 89.9741,307.942 90.3668,307.942 90.7595,307.942 91.1522,307.942 91.5449,307.942 \n",
       "  91.9376,307.942 92.3303,307.942 92.723,307.942 93.1157,307.942 93.5085,307.942 93.9012,307.942 94.2939,307.942 94.6866,307.942 95.0793,307.942 95.472,307.942 \n",
       "  95.8647,307.942 96.2574,307.942 96.6501,307.942 97.0428,307.942 97.4355,307.942 97.8282,307.942 98.221,307.942 98.6137,307.942 99.0064,307.942 99.3991,307.942 \n",
       "  99.7918,307.942 100.185,307.942 100.577,307.942 100.97,307.942 101.363,307.942 101.755,307.942 102.148,307.942 102.541,307.942 102.933,307.942 103.326,307.942 \n",
       "  103.719,307.942 104.112,307.942 104.504,307.942 104.897,307.942 105.29,307.942 105.682,307.942 106.075,307.942 106.468,307.942 106.861,307.942 107.253,307.942 \n",
       "  107.646,307.942 108.039,307.942 108.431,307.942 108.824,307.942 109.217,307.942 109.61,307.942 110.002,307.942 110.395,307.942 110.788,307.942 111.18,307.942 \n",
       "  111.573,307.942 111.966,307.942 112.358,307.942 112.751,307.942 113.144,307.942 113.537,307.942 113.929,307.942 114.322,307.942 114.715,307.942 115.107,307.942 \n",
       "  115.5,307.942 115.893,307.942 116.286,307.942 116.678,307.942 117.071,307.942 117.464,307.942 117.856,307.942 118.249,307.942 118.642,307.942 119.035,307.942 \n",
       "  119.427,307.942 119.82,307.942 120.213,307.942 120.605,307.942 120.998,307.942 121.391,307.942 121.783,307.942 122.176,307.942 122.569,307.942 122.962,307.942 \n",
       "  123.354,307.942 123.747,307.942 124.14,307.942 124.532,307.942 124.925,307.942 125.318,307.942 125.711,307.942 126.103,307.942 126.496,307.942 126.889,307.942 \n",
       "  127.281,307.942 127.674,307.942 128.067,307.942 128.46,307.942 128.852,307.942 129.245,307.942 129.638,307.942 130.03,307.942 130.423,307.942 130.816,307.942 \n",
       "  131.209,307.942 131.601,307.942 131.994,307.942 132.387,307.942 132.779,307.942 133.172,307.942 133.565,307.942 133.957,307.942 134.35,307.942 134.743,307.942 \n",
       "  135.136,307.942 135.528,307.942 135.921,307.942 136.314,307.942 136.706,307.942 137.099,307.942 137.492,307.942 137.885,307.942 138.277,307.942 138.67,307.942 \n",
       "  139.063,307.942 139.455,307.942 139.848,307.942 140.241,307.942 140.634,307.942 141.026,307.942 141.419,307.942 141.812,307.942 142.204,307.942 142.597,307.942 \n",
       "  142.99,307.942 143.382,307.942 143.775,307.942 144.168,307.942 144.561,307.942 144.953,307.942 145.346,307.942 145.739,307.942 146.131,307.942 146.524,307.942 \n",
       "  146.917,307.942 147.31,307.942 147.702,307.942 148.095,307.942 148.488,307.942 148.88,307.942 149.273,307.942 149.666,307.942 150.059,307.942 150.451,307.942 \n",
       "  150.844,307.942 151.237,307.942 151.629,307.942 152.022,307.942 152.415,307.942 152.807,307.942 153.2,307.942 153.593,307.942 153.986,307.942 154.378,307.942 \n",
       "  154.771,307.942 155.164,307.942 155.556,307.942 155.949,307.942 156.342,307.942 156.735,307.942 157.127,307.942 157.52,307.942 157.913,307.942 158.305,307.942 \n",
       "  158.698,307.942 159.091,307.942 159.484,307.942 159.876,307.942 160.269,307.942 160.662,307.942 161.054,307.942 161.447,307.942 161.84,307.942 162.233,307.942 \n",
       "  162.625,307.942 163.018,307.942 163.411,307.942 163.803,307.942 164.196,307.942 164.589,307.942 164.981,307.942 165.374,307.942 165.767,307.942 166.16,307.942 \n",
       "  166.552,307.942 166.945,307.942 167.338,307.942 167.73,307.942 168.123,307.942 168.516,307.942 168.909,307.942 169.301,307.942 169.694,307.942 170.087,307.942 \n",
       "  170.479,307.942 170.872,307.942 171.265,307.942 171.658,307.942 172.05,307.942 172.443,307.942 172.836,307.942 173.228,307.942 173.621,307.942 174.014,307.942 \n",
       "  174.406,307.942 174.799,307.942 175.192,307.942 175.585,307.942 175.977,307.942 176.37,307.942 176.763,307.942 177.155,307.942 177.548,307.942 177.941,307.942 \n",
       "  178.334,307.942 178.726,307.942 179.119,307.942 179.512,307.942 179.904,307.942 180.297,307.942 180.69,307.942 181.083,307.942 181.475,307.942 181.868,307.942 \n",
       "  182.261,307.942 182.653,307.942 183.046,307.942 183.439,307.942 183.832,307.942 184.224,307.942 184.617,307.942 185.01,307.942 185.402,307.942 185.795,307.942 \n",
       "  186.188,307.942 186.58,307.942 186.973,307.942 187.366,307.942 187.759,307.942 188.151,307.942 188.544,307.942 188.937,307.942 189.329,307.942 189.722,307.942 \n",
       "  190.115,307.942 190.508,307.942 190.9,307.942 191.293,307.942 191.686,307.942 192.078,307.942 192.471,307.942 192.864,307.942 193.257,307.942 193.649,307.942 \n",
       "  194.042,307.942 194.435,307.942 194.827,307.942 195.22,307.942 195.613,307.942 196.005,307.942 196.398,307.942 196.791,307.942 197.184,307.942 197.576,307.942 \n",
       "  197.969,307.942 198.362,307.942 198.754,307.942 199.147,307.942 199.54,307.942 199.933,307.942 200.325,307.942 200.718,307.942 201.111,307.942 201.503,307.942 \n",
       "  201.896,307.942 202.289,307.942 202.682,307.942 203.074,307.942 203.467,307.942 203.86,307.942 204.252,307.942 204.645,307.942 205.038,307.942 205.43,307.942 \n",
       "  205.823,307.942 206.216,307.942 206.609,307.942 207.001,307.942 207.394,307.942 207.787,307.942 208.179,307.942 208.572,307.942 208.965,307.942 209.358,307.942 \n",
       "  209.75,307.942 210.143,307.942 210.536,307.942 210.928,307.942 211.321,307.942 211.714,307.942 212.107,307.942 212.499,307.942 212.892,307.942 213.285,307.942 \n",
       "  213.677,307.942 214.07,307.942 214.463,307.942 214.856,307.942 215.248,307.942 215.641,307.942 216.034,307.942 216.426,307.942 216.819,307.942 217.212,307.942 \n",
       "  217.604,307.942 217.997,307.942 218.39,307.942 218.783,307.942 219.175,307.942 219.568,307.942 219.961,307.942 220.353,307.942 220.746,307.942 221.139,307.942 \n",
       "  221.532,307.942 221.924,307.942 222.317,307.942 222.71,307.942 223.102,307.942 223.495,307.942 223.888,307.942 224.281,307.942 224.673,307.942 225.066,307.942 \n",
       "  225.459,307.942 225.851,307.942 226.244,307.942 226.637,307.942 227.029,307.942 227.422,307.942 227.815,307.942 228.208,307.942 228.6,307.942 228.993,307.942 \n",
       "  229.386,307.942 229.778,307.942 230.171,307.942 230.564,307.942 230.957,307.942 231.349,307.942 231.742,307.942 232.135,307.942 232.527,307.942 232.92,307.942 \n",
       "  233.313,307.942 233.706,307.942 234.098,307.942 234.491,307.942 234.884,307.942 235.276,307.942 235.669,307.942 236.062,307.942 236.454,307.942 236.847,307.942 \n",
       "  237.24,307.942 237.633,307.942 238.025,307.942 238.418,307.942 238.811,307.942 239.203,307.942 239.596,307.942 239.989,307.942 240.382,307.942 240.774,307.942 \n",
       "  241.167,307.942 241.56,307.942 241.952,307.942 242.345,307.942 242.738,307.942 243.131,307.942 243.523,307.942 243.916,307.942 244.309,307.942 244.701,307.942 \n",
       "  245.094,307.942 245.487,307.942 245.88,307.942 246.272,307.942 246.665,307.942 247.058,307.942 247.45,307.942 247.843,307.942 248.236,307.942 248.628,307.942 \n",
       "  249.021,307.942 249.414,307.942 249.807,307.942 250.199,307.942 250.592,307.942 250.985,307.942 251.377,307.942 251.77,307.942 252.163,307.942 252.556,307.942 \n",
       "  252.948,307.942 253.341,307.942 253.734,307.942 254.126,307.942 254.519,307.942 254.912,307.942 255.305,307.942 255.697,307.942 256.09,307.942 256.483,307.942 \n",
       "  256.875,307.942 257.268,307.942 257.661,307.942 258.053,307.942 258.446,307.942 258.839,307.942 259.232,307.942 259.624,307.942 260.017,307.942 260.41,307.942 \n",
       "  260.802,307.942 261.195,307.942 261.588,307.942 261.981,307.942 262.373,307.942 262.766,307.942 263.159,307.942 263.551,307.942 263.944,307.942 264.337,307.942 \n",
       "  264.73,307.942 265.122,307.942 265.515,307.942 265.908,307.942 266.3,307.942 266.693,307.942 267.086,307.942 267.479,307.942 267.871,307.942 268.264,307.942 \n",
       "  268.657,307.942 269.049,307.942 269.442,307.942 269.835,307.942 270.227,307.942 270.62,307.942 271.013,307.942 271.406,307.942 271.798,307.942 272.191,307.942 \n",
       "  272.584,307.942 272.976,307.942 273.369,307.942 273.762,307.942 274.155,307.942 274.547,307.942 274.94,307.942 275.333,307.942 275.725,307.942 276.118,307.942 \n",
       "  276.511,307.942 276.904,307.942 277.296,307.942 277.689,307.942 278.082,307.942 278.474,307.942 278.867,307.942 279.26,307.942 279.652,307.942 280.045,307.942 \n",
       "  280.438,307.942 280.831,307.942 281.223,307.942 281.616,307.942 282.009,307.942 282.401,307.942 282.794,307.942 283.187,307.942 283.58,307.942 283.972,307.942 \n",
       "  284.365,307.942 284.758,307.942 285.15,307.942 285.543,307.942 285.936,307.942 286.329,307.942 286.721,307.942 287.114,307.942 287.507,307.942 287.899,307.942 \n",
       "  288.292,307.942 288.685,307.942 289.077,307.942 289.47,307.942 289.863,307.942 290.256,307.942 290.648,307.942 291.041,307.942 291.434,307.942 291.826,307.942 \n",
       "  292.219,307.942 292.612,307.942 293.005,307.942 293.397,307.942 293.79,307.942 294.183,307.942 294.575,307.942 294.968,307.942 295.361,307.942 295.754,307.942 \n",
       "  296.146,307.942 296.539,307.942 296.932,307.942 297.324,307.942 297.717,307.942 298.11,307.942 298.503,307.942 298.895,307.942 299.288,307.942 299.681,307.942 \n",
       "  300.073,307.942 300.466,307.942 300.859,307.942 301.251,307.942 301.644,307.942 302.037,307.942 302.43,307.942 302.822,307.942 303.215,307.942 303.608,307.942 \n",
       "  304,307.942 304.393,307.942 304.786,307.942 305.179,307.942 305.571,307.942 305.964,307.942 306.357,307.942 306.749,307.942 307.142,307.942 307.535,307.942 \n",
       "  307.928,307.942 308.32,307.942 308.713,307.942 309.106,307.942 309.498,307.942 309.891,307.942 310.284,307.942 310.676,307.942 311.069,307.942 311.462,307.942 \n",
       "  311.855,307.942 312.247,307.942 312.64,307.942 313.033,307.942 313.425,307.942 313.818,307.942 314.211,307.942 314.604,307.942 314.996,307.942 315.389,307.942 \n",
       "  315.782,307.942 316.174,307.942 316.567,307.942 316.96,307.942 317.353,307.942 317.745,307.942 318.138,307.942 318.531,307.942 318.923,307.942 319.316,307.942 \n",
       "  319.709,307.942 320.102,307.942 320.494,307.942 320.887,307.942 321.28,307.942 321.672,307.942 322.065,307.942 322.458,307.942 322.85,307.942 323.243,307.942 \n",
       "  323.636,307.942 324.029,307.942 324.421,307.942 324.814,307.942 325.207,307.942 325.599,307.942 325.992,307.942 326.385,307.942 326.778,307.942 327.17,307.942 \n",
       "  327.563,307.942 327.956,307.942 328.348,307.942 328.741,307.942 329.134,307.942 329.527,307.942 329.919,307.942 330.312,307.942 330.705,307.942 331.097,307.942 \n",
       "  331.49,307.942 331.883,307.942 332.275,307.942 332.668,307.942 333.061,307.942 333.454,307.942 333.846,307.942 334.239,307.942 334.632,307.942 335.024,307.942 \n",
       "  335.417,307.942 335.81,307.942 336.203,307.942 336.595,307.942 336.988,307.942 337.381,307.942 337.773,307.942 338.166,307.942 338.559,307.942 338.952,307.942 \n",
       "  339.344,307.942 339.737,307.942 340.13,307.942 340.522,307.942 340.915,307.942 341.308,307.942 341.7,307.942 342.093,307.942 342.486,307.942 342.879,307.942 \n",
       "  343.271,307.942 343.664,307.942 344.057,307.942 344.449,307.942 344.842,307.942 345.235,307.942 345.628,307.942 346.02,307.942 346.413,307.942 346.806,307.942 \n",
       "  347.198,307.942 347.591,307.942 347.984,307.942 348.377,307.942 348.769,307.942 349.162,307.942 349.555,307.942 349.947,307.942 350.34,307.942 350.733,307.942 \n",
       "  351.126,307.942 351.518,307.942 351.911,307.942 352.304,307.942 352.696,307.942 353.089,307.942 353.482,307.942 353.874,307.942 354.267,307.942 354.66,307.942 \n",
       "  355.053,307.942 355.445,307.942 355.838,307.942 356.231,307.942 356.623,307.942 357.016,307.942 357.409,307.942 357.802,307.942 358.194,307.942 358.587,307.942 \n",
       "  358.98,307.942 359.372,307.942 359.765,307.942 360.158,307.942 360.551,307.942 360.943,307.942 361.336,307.942 361.729,307.942 362.121,307.942 362.514,307.942 \n",
       "  362.907,307.942 363.299,307.942 363.692,307.942 364.085,307.942 364.478,307.942 364.87,307.942 365.263,307.942 365.656,307.942 366.048,307.942 366.441,307.942 \n",
       "  366.834,307.942 367.227,307.942 367.619,307.942 368.012,307.942 368.405,307.942 368.797,307.942 369.19,307.942 369.583,307.942 369.976,307.942 370.368,307.942 \n",
       "  370.761,307.942 371.154,307.942 371.546,307.942 371.939,307.942 372.332,307.942 372.724,307.942 373.117,307.942 373.51,307.942 373.903,307.942 374.295,307.942 \n",
       "  374.688,307.942 375.081,307.942 375.473,307.942 375.866,307.942 376.259,307.942 376.652,307.942 377.044,307.942 377.437,307.942 377.83,307.942 378.222,307.942 \n",
       "  378.615,307.942 379.008,307.942 379.401,307.942 379.793,307.942 380.186,307.942 380.579,307.942 380.971,307.942 381.364,307.942 381.757,307.942 382.15,307.942 \n",
       "  382.542,307.942 382.935,307.942 383.328,307.942 383.72,307.942 384.113,307.942 384.506,307.942 384.898,307.942 385.291,307.942 385.684,307.942 386.077,307.942 \n",
       "  386.469,307.942 386.862,307.942 387.255,307.942 387.647,307.942 388.04,307.942 388.433,307.942 388.826,307.942 389.218,307.942 389.611,307.942 390.004,307.942 \n",
       "  390.396,307.942 390.789,307.942 391.182,307.942 391.575,307.942 391.967,307.942 392.36,307.942 392.753,307.942 393.145,307.942 393.538,307.942 393.931,307.942 \n",
       "  394.323,307.942 394.716,307.942 395.109,307.942 395.502,307.942 395.894,307.942 396.287,307.942 396.68,307.942 397.072,307.942 397.465,307.942 397.858,307.942 \n",
       "  398.251,307.942 398.643,307.942 399.036,307.942 399.429,307.942 399.821,307.942 400.214,307.942 400.607,307.942 401,307.942 401.392,307.942 401.785,307.942 \n",
       "  402.178,307.942 402.57,307.942 402.963,307.942 403.356,307.942 403.749,307.942 404.141,307.942 404.534,307.942 404.927,307.942 405.319,307.942 405.712,307.942 \n",
       "  406.105,307.942 406.497,307.942 406.89,307.942 407.283,307.942 407.676,307.942 408.068,307.942 408.461,307.942 408.854,307.942 409.246,307.942 409.639,307.942 \n",
       "  410.032,307.942 410.425,307.942 410.817,307.942 411.21,307.942 411.603,307.942 411.995,307.942 412.388,307.942 412.781,307.942 413.174,307.942 413.566,307.942 \n",
       "  413.959,307.942 414.352,307.942 414.744,307.942 415.137,307.942 415.53,307.942 415.922,307.942 416.315,307.942 416.708,307.942 417.101,307.942 417.493,307.942 \n",
       "  417.886,307.942 418.279,307.942 418.671,307.942 419.064,307.942 419.457,307.942 419.85,307.942 420.242,307.942 420.635,307.942 421.028,307.942 421.42,307.942 \n",
       "  421.813,307.942 422.206,307.942 422.599,307.942 422.991,307.942 423.384,307.942 423.777,307.942 424.169,307.942 424.562,307.942 424.955,307.942 425.347,307.942 \n",
       "  425.74,307.942 426.133,307.942 426.526,307.942 426.918,307.942 427.311,307.942 427.704,307.942 428.096,307.942 428.489,307.942 428.882,307.942 429.275,307.942 \n",
       "  429.667,307.942 430.06,307.942 430.453,307.942 430.845,307.942 431.238,307.942 431.631,307.942 432.024,307.942 432.416,307.942 432.809,307.942 433.202,307.942 \n",
       "  433.594,307.942 433.987,307.942 434.38,307.942 434.773,307.942 435.165,307.942 435.558,307.942 435.951,307.942 436.343,307.942 436.736,307.942 437.129,307.942 \n",
       "  437.521,307.942 437.914,307.942 438.307,307.942 438.7,307.942 439.092,307.942 439.485,307.942 439.878,307.942 440.27,307.942 440.663,307.942 441.056,307.942 \n",
       "  441.449,307.942 441.841,307.942 442.234,307.942 442.627,307.942 443.019,307.942 443.412,307.942 443.805,307.942 444.198,307.942 444.59,307.942 444.983,307.942 \n",
       "  445.376,307.942 445.768,307.942 446.161,307.942 446.554,307.942 446.946,307.942 447.339,307.942 447.732,307.942 448.125,307.942 448.517,307.942 448.91,307.942 \n",
       "  449.303,307.942 449.695,307.942 450.088,307.942 450.481,307.942 450.874,307.942 451.266,307.942 451.659,307.942 452.052,307.942 452.444,307.942 452.837,307.942 \n",
       "  453.23,307.942 453.623,307.942 454.015,307.942 454.408,307.942 454.801,307.942 455.193,307.942 455.586,307.942 455.979,307.942 456.371,307.942 456.764,307.942 \n",
       "  457.157,307.942 457.55,307.942 457.942,307.942 458.335,307.942 458.728,307.942 459.12,307.942 459.513,307.942 459.906,307.942 460.299,307.942 460.691,307.942 \n",
       "  461.084,307.942 461.477,307.942 461.869,307.942 462.262,307.942 462.655,307.942 463.048,307.942 463.44,307.942 463.833,307.942 464.226,307.942 464.618,307.942 \n",
       "  465.011,307.942 465.404,307.942 465.797,307.942 466.189,307.942 466.582,307.942 466.975,307.942 467.367,307.942 467.76,307.942 468.153,307.942 468.545,307.942 \n",
       "  \n",
       "  \"/>\n",
       "<polyline clip-path=\"url(#clip6703)\" style=\"stroke:#0000ff; stroke-width:3; stroke-opacity:1; fill:none\" points=\"\n",
       "  461.045,304.192 468.545,307.942 461.045,311.692 \n",
       "  \"/>\n",
       "<polyline clip-path=\"url(#clip6703)\" style=\"stroke:#0000ff; stroke-width:3; stroke-opacity:1; fill:none\" stroke-dasharray=\"12, 8\" points=\"\n",
       "  468.545,307.942 468.153,307.942 \n",
       "  \"/>\n",
       "</svg>\n"
      ],
      "text/html": [
       "<img src=\"data:image/png;base64,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\" />"
      ],
      "text/plain": [
       "Plot{Plots.GRBackend() n=2}"
      ]
     },
     "execution_count": 1,
     "metadata": {},
     "output_type": "execute_result"
    }
   ],
   "source": [
    "# Plot the function\n",
    "using Plots\n",
    "using NLsolve\n",
    "\n",
    "# We know solution is between .1 and .2\n",
    "x = range(.1, stop=.2, length=1000)\n",
    "z = 2*ones(length(x))\n",
    "\n",
    "# Price function minus equilibrium quantity of 2\n",
    "price(p) = 0.5*p.^(-0.2) + 0.5*p.^(-0.5)\n",
    "\n",
    "# Get corresponding quantity values at these prices\n",
    "y = price(x)\n",
    "\n",
    "# Plot\n",
    "gr(size=(500,500))\n",
    "plot(x, [y z], \n",
    "  linestyle = [:solid :dash],\n",
    "  arrow = :arrow,\n",
    "  linewidth = [3 3],\n",
    "  linecolor = [:red :blue],\n",
    "  grid = :false,\n",
    "  tickfontsize = 12,\n",
    "  xlabel = \"X\",\n",
    "  ylabel = \"Y\",\n",
    "  legend = :none,\n",
    "  fmt = :png,\n",
    "  title = \"Where's the root?\")"
   ]
  },
  {
   "cell_type": "code",
   "execution_count": 2,
   "metadata": {},
   "outputs": [
    {
     "name": "stdout",
     "output_type": "stream",
     "text": [
      "Initial price guess is 0.15.\n",
      "Next price guess is 0.1541.\n",
      "Next price guess is 0.1542.\n",
      "Next price guess is 0.1542.\n",
      "Next price guess is 0.1542.\n",
      "The equilibrium price is $0.154.\n"
     ]
    }
   ],
   "source": [
    "# Initial price guess\n",
    "p = 0.15\n",
    "\n",
    "# Initialize stepsize\n",
    "deltap = 1.0e10\n",
    "\n",
    "# Demand function\n",
    "demand_function(p) = (.5*p^(-.2)+.5*p^( -.5) -2)\n",
    "# Gradient of demand function\n",
    "demand_function_gradient(p) = (.1*p^(-1.2) +.25*p^(-1.5))\n",
    "\n",
    "println(\"Initial price guess is $(round(p,digits=4)).\")\n",
    "\n",
    "# Loop through Newton's method until tolerance is met\n",
    "while abs(deltap) > 1e-8\n",
    "    deltap = demand_function(p)/demand_function_gradient(p)\n",
    "    p += deltap\n",
    "    println(\"Next price guess is $(round(p,digits=4)).\")\n",
    "end\n",
    "\n",
    "println(\"The equilibrium price is \\$$(round(p*1000)/1000).\")"
   ]
  },
  {
   "cell_type": "markdown",
   "metadata": {},
   "source": [
    "## Problem 2\n",
    "Consider a two period model of an agricultural commodity market. Acreage decisions must be made before knowing the realization of per-acre yield and the price at harvest. \n",
    "\n",
    "The farmer has an expectation of the harvest price and makes decisions as a function of the expectation: $a = 0.5 + 0.5E[p]$. \n",
    "\n",
    "After planting, the random yield per-acre, $\\hat{y}$ is realized, producing a quantity $q = a\\hat{y}$ of the crop. \n",
    "\n",
    "Demand for the crop is given by the inverse demand function $p = 3 − 2q$ and the government sets a price floor of \\$1. \n",
    "\n",
    "Suppose $\\hat{y}$ is exogenous and has mean of $1$ and variance $0.1$. How much acreage does the farmer plant?"
   ]
  },
  {
   "cell_type": "code",
   "execution_count": 29,
   "metadata": {
    "scrolled": true
   },
   "outputs": [
    {
     "name": "stdout",
     "output_type": "stream",
     "text": [
      "The optimal number of acres planted is 1.096.\n",
      "The expected price is 1.192.\n"
     ]
    }
   ],
   "source": [
    "using CompEcon\n",
    "# Create quadrature\n",
    "y, w = qnwnorm(10, 1, 0.1)\n",
    "\n",
    "# Initial guess for acreage\n",
    "a = 1.\n",
    "p = 0. # Need to define price outside the loop to have correct scope\n",
    "diff = 100.0\n",
    "\n",
    "# Loop through solution algorithm until tolerance is met\n",
    "while diff > 1e-8\n",
    "    \n",
    "    # Save old acreage\n",
    "    aold = a\n",
    "    \n",
    "    # Get price at all the quadrature nodes y \n",
    "    # (need spaces between element-wise operations which are indicated by dots)\n",
    "    p = 3 .- 2 .*a*y\n",
    "    \n",
    "    # Compute expected price with price floor (need dot notation for element-wise maximum)\n",
    "    expectation = w'*max.(p,1.0)\n",
    "    \n",
    "    # Get new acreage planted given new price\n",
    "    a = 0.5 .+ 0.5*expectation[1]\n",
    "    \n",
    "    # Get difference between old and new acreage\n",
    "    diff = abs(a .- aold)\n",
    "    \n",
    "end\n",
    "\n",
    "println(\"The optimal number of acres planted is $(round(a*1000)/1000).\")\n",
    "println(\"The expected price is $(round((w'*max.(p,1))[1]*1000)/1000).\")"
   ]
  },
  {
   "cell_type": "markdown",
   "metadata": {},
   "source": [
    "# Problem 3\n",
    "\n",
    "Test the time to invert increasing large matrices."
   ]
  },
  {
   "cell_type": "code",
   "execution_count": 36,
   "metadata": {},
   "outputs": [
    {
     "name": "stdout",
     "output_type": "stream",
     "text": [
      "  0.000364 seconds (10 allocations: 129.422 KiB)\n"
     ]
    }
   ],
   "source": [
    "# Initialize matrices\n",
    "using LinearAlgebra\n",
    "A100 = rand(100,100)\n",
    "A1000 = rand(1000,1000)\n",
    "A10000 = rand(10000,10000)\n",
    "\n",
    "@time invA100 = inv(A100);"
   ]
  },
  {
   "cell_type": "code",
   "execution_count": 43,
   "metadata": {
    "scrolled": true
   },
   "outputs": [
    {
     "name": "stdout",
     "output_type": "stream",
     "text": [
      "  0.082754 seconds (10 allocations: 8.126 MiB)\n"
     ]
    }
   ],
   "source": [
    "@time invA1000 = inv(A1000);"
   ]
  },
  {
   "cell_type": "code",
   "execution_count": 34,
   "metadata": {
    "scrolled": true
   },
   "outputs": [
    {
     "name": "stdout",
     "output_type": "stream",
     "text": [
      " 38.353128 seconds (12 allocations: 767.899 MiB, 0.38% gc time)\n"
     ]
    }
   ],
   "source": [
    "@time invA10000 = inv(A10000);"
   ]
  },
  {
   "cell_type": "markdown",
   "metadata": {},
   "source": [
    "What is machine epsilon, machine zero and machine infinity in Julia?"
   ]
  },
  {
   "cell_type": "code",
   "execution_count": 44,
   "metadata": {},
   "outputs": [
    {
     "name": "stdout",
     "output_type": "stream",
     "text": [
      "Machine epsilon is 2.220446049250313e-16.\n"
     ]
    },
    {
     "data": {
      "text/plain": [
       "false"
      ]
     },
     "execution_count": 44,
     "metadata": {},
     "output_type": "execute_result"
    }
   ],
   "source": [
    "println(\"Machine epsilon is $(eps()).\")\n",
    "\n",
    "1+eps()/2 > 1"
   ]
  },
  {
   "cell_type": "code",
   "execution_count": 51,
   "metadata": {},
   "outputs": [
    {
     "name": "stdout",
     "output_type": "stream",
     "text": [
      "Machine zero is 2.2250738585072014e-308.\n"
     ]
    }
   ],
   "source": [
    "println(\"Machine zero is $(floatmin()).\")"
   ]
  },
  {
   "cell_type": "code",
   "execution_count": 67,
   "metadata": {},
   "outputs": [
    {
     "data": {
      "text/plain": [
       "0.0"
      ]
     },
     "execution_count": 67,
     "metadata": {},
     "output_type": "execute_result"
    }
   ],
   "source": [
    "floatmin()/1e16"
   ]
  },
  {
   "cell_type": "code",
   "execution_count": 49,
   "metadata": {},
   "outputs": [
    {
     "name": "stdout",
     "output_type": "stream",
     "text": [
      "Machine infinity is 1.7976931348623157e308.\n"
     ]
    }
   ],
   "source": [
    "println(\"Machine infinity is $(floatmax()).\")"
   ]
  },
  {
   "cell_type": "code",
   "execution_count": 50,
   "metadata": {},
   "outputs": [
    {
     "data": {
      "text/plain": [
       "false"
      ]
     },
     "execution_count": 50,
     "metadata": {},
     "output_type": "execute_result"
    }
   ],
   "source": [
    "floatmax() + 1 > floatmax()"
   ]
  },
  {
   "cell_type": "markdown",
   "metadata": {},
   "source": [
    "# Problem 4\n",
    "Compute one-sided finite differences of x^2 at x=2 for differences of $h=1e-8, 1e-12, 1e-30, 1e-1$."
   ]
  },
  {
   "cell_type": "code",
   "execution_count": 69,
   "metadata": {},
   "outputs": [
    {
     "name": "stdout",
     "output_type": "stream",
     "text": [
      "3.999999975690116\n",
      "  0.004164 seconds (2.17 k allocations: 109.878 KiB)\n",
      "4.000355602329364\n",
      "0.0\n",
      "4.100000000000001\n"
     ]
    }
   ],
   "source": [
    "# Finite-difference as a function of the difference h and value x\n",
    "x_sq_deriv(h,x) = ((x+h)^2 - x^2)/h\n",
    "\n",
    "# Display several finite differences\n",
    "println(x_sq_deriv(1.e-8,2.))\n",
    "println(x_sq_deriv(1.e-12,2.))\n",
    "println(x_sq_deriv(1.e-30,2.))\n",
    "println(x_sq_deriv(1.e-1,2.))"
   ]
  },
  {
   "cell_type": "markdown",
   "metadata": {},
   "source": [
    "# Problem 5\n",
    "Compute the same inverse with two different inversion techniques, the standard inversion algorithm and LU-Factorization."
   ]
  },
  {
   "cell_type": "code",
   "execution_count": 71,
   "metadata": {},
   "outputs": [
    {
     "name": "stdout",
     "output_type": "stream",
     "text": [
      " 38.946480 seconds (12 allocations: 767.899 MiB, 0.11% gc time)\n"
     ]
    },
    {
     "name": "stderr",
     "output_type": "stream",
     "text": [
      "┌ Warning: `eye(m::Integer, n::Integer)` has been deprecated in favor of `I` and `Matrix` constructors. For a direct replacement, consider `Matrix(1.0I, m, n)` or `Matrix{Float64}(I, m, n)`. If `Float64` element type is not necessary, consider the shorter `Matrix(I, m, n)` (with default `eltype(I)` `Bool`).\n",
      "│   caller = top-level scope at util.jl:156\n",
      "└ @ Core util.jl:156\n"
     ]
    },
    {
     "name": "stdout",
     "output_type": "stream",
     "text": [
      " 47.236904 seconds (269.32 k allocations: 2.248 GiB, 0.40% gc time)\n",
      "The maximum relative error is 3.141279339279741e-5.\n"
     ]
    }
   ],
   "source": [
    "A = rand(10000,10000)\n",
    "@time inv1 = inv(A)\n",
    "@time inv2 = A\\Matrix(I,10000,10000)\n",
    "println(\"The maximum relative error is $(maximum.((inv1-inv2)./inv1)).\")"
   ]
  },
  {
   "cell_type": "markdown",
   "metadata": {},
   "source": [
    "# Problem 6\n",
    "Are these two expressions numerically equivalent?"
   ]
  },
  {
   "cell_type": "code",
   "execution_count": 73,
   "metadata": {},
   "outputs": [
    {
     "name": "stdout",
     "output_type": "stream",
     "text": [
      "Truncation error! x = 0.0, y = 1.0e-20.\n"
     ]
    }
   ],
   "source": [
    "x = (1e-20 + 1) -1\n",
    "y = 1e-20 + (1 - 1)\n",
    "\n",
    "# Logical Statement ? Do this if true : else do this\n",
    "x==y ? println(\"Equivalent!\") : println(\"Truncation error! x = $(x), y = $(y).\")"
   ]
  },
  {
   "cell_type": "markdown",
   "metadata": {},
   "source": [
    "# Problem 7\n",
    "Are these two expressions numerically equivalent?"
   ]
  },
  {
   "cell_type": "code",
   "execution_count": 75,
   "metadata": {},
   "outputs": [
    {
     "name": "stdout",
     "output_type": "stream",
     "text": [
      "Truncation error! x = 0.09999999999126885, y = 0.1.\n"
     ]
    }
   ],
   "source": [
    "x = 100000.2 - 100000.1\n",
    "y = .1\n",
    "\n",
    "# Logical Statement ? Do this if true : else do this\n",
    "x==y ? println(\"Equivalent!\") : println(\"Truncation error! x = $(x), y = $(y).\")"
   ]
  },
  {
   "cell_type": "markdown",
   "metadata": {},
   "source": [
    "# Problem 8\n",
    "Does the way you reference arrays matter? Lets copy an $n$ by 1 vector into an $n$ by $n$ array. We can do this in 4 possible ways:\n",
    "\n",
    "1. Copying as an entire column\n",
    "2. Copying as an entire row\n",
    "3. Copying down columns element by element\n",
    "4. Copying across rows element by element"
   ]
  },
  {
   "cell_type": "code",
   "execution_count": 5,
   "metadata": {},
   "outputs": [
    {
     "data": {
      "text/plain": [
       "copy_row_col (generic function with 1 method)"
      ]
     },
     "execution_count": 5,
     "metadata": {},
     "output_type": "execute_result"
    }
   ],
   "source": [
    "function copy_cols(x::Vector{T}) where T\n",
    "    inds = axes(x, 1)\n",
    "    out = similar(Array{T}, inds, inds)\n",
    "    for i = inds\n",
    "        out[:, i] = x\n",
    "    end\n",
    "    return out\n",
    "end\n",
    "\n",
    "function copy_rows(x::Vector{T}) where T\n",
    "    inds = axes(x, 1)\n",
    "    out = similar(Array{T}, inds, inds)\n",
    "    for i = inds\n",
    "        out[i, :] = x\n",
    "    end\n",
    "    return out\n",
    "end\n",
    "\n",
    "function copy_col_row(x::Vector{T}) where T\n",
    "    inds = axes(x, 1)\n",
    "    out = similar(Array{T}, inds, inds)\n",
    "    for col = inds, row = inds\n",
    "        out[row, col] = x[row]\n",
    "    end\n",
    "    return out\n",
    "end\n",
    "\n",
    "function copy_row_col(x::Vector{T}) where T\n",
    "    inds = axes(x, 1)\n",
    "    out = similar(Array{T}, inds, inds)\n",
    "    for row = inds, col = inds\n",
    "        out[row, col] = x[col]\n",
    "    end\n",
    "    return out\n",
    "end"
   ]
  },
  {
   "cell_type": "code",
   "execution_count": null,
   "metadata": {},
   "outputs": [],
   "source": [
    "x = randn(10000);\n",
    "\n",
    "fmt(f) = println(rpad(string(f)*\": \", 14, ' '), @elapsed f(x))\n",
    "\n",
    "map(fmt, Any[copy_cols, copy_rows, copy_col_row, copy_row_col]);"
   ]
  },
  {
   "cell_type": "markdown",
   "metadata": {},
   "source": [
    "Yes! Julia stores arrays in column-major order. This means that arrays are stored as stacked columns. You can see this in the following block of code."
   ]
  },
  {
   "cell_type": "code",
   "execution_count": 4,
   "metadata": {},
   "outputs": [
    {
     "data": {
      "text/plain": [
       "4-element Array{Int64,1}:\n",
       " 1\n",
       " 3\n",
       " 2\n",
       " 4"
      ]
     },
     "execution_count": 4,
     "metadata": {},
     "output_type": "execute_result"
    }
   ],
   "source": [
    "A = [1 2; 3 4]\n",
    "A[:]"
   ]
  }
 ],
 "metadata": {
  "kernelspec": {
   "display_name": "Julia 0.7.0",
   "language": "julia",
   "name": "julia-0.7"
  },
  "language_info": {
   "file_extension": ".jl",
   "mimetype": "application/julia",
   "name": "julia",
   "version": "0.7.0"
  }
 },
 "nbformat": 4,
 "nbformat_minor": 2
}
