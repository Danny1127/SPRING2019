{
 "cells": [
  {
   "cell_type": "markdown",
   "metadata": {},
   "source": [
    "# Homework 1: Due February 13 at 3:00PM.\n",
    "Fork/clone this repo and then solve the problems in this notebook. Make sure your code is well-commented, separated into different blocks in a smart way, and executed before your push it to **your** repository."
   ]
  },
  {
   "cell_type": "markdown",
   "metadata": {},
   "source": [
    "## Problem 1: Coding, integration, and a simple econ example\n",
    "A profit-maximizing firm faces a demand curve given by: $P(q) = a-bq$ where $b\\sim logN(\\mu,\\sigma)$ and has a cost function given by $C(q) = cq$. \n",
    "\n",
    "1. Solve for the optimal quantity analytically. Write your proof in the notebook using markdown.\n",
    "2. Write a function called `profit_max_q(a, c, mu, sigma, method, n)` that returns the numerical optimal quantity given a set of inputs $(a, c, \\mu, \\sigma, method, n)$, where `method` is a string that takes on a value of `\"mc\"` or `\"quad\"` and determines whether you integrate using Monte Carlo or quadrature methods, and `n` is the number of Monte Carlo draws or quadrature nodes.\n",
    "3. Choose a set of values $(a, c, \\mu, \\sigma)$ and use `profit_max_q` to solve the problem for both approaches to integration. Use the `CompEcon` package to implement the quadrature routine."
   ]
  },
  {
   "cell_type": "code",
   "execution_count": 11,
   "metadata": {},
   "outputs": [
    {
     "data": {
      "text/plain": [
       "quantity (generic function with 1 method)"
      ]
     },
     "execution_count": 11,
     "metadata": {},
     "output_type": "execute_result"
    }
   ],
   "source": [
    "using CompEcon, Statistics\n",
    "\n",
    "# Return optimal quantity\n",
    "function quantity(a, c, mu, sigma, method, n)\n",
    "    \n",
    "    if method == :quad\n",
    "        \n",
    "        # expectation of b is weights' * nodes\n",
    "        expected_b = qnwlogn(n,mu,sigma^2)[2]' * qnwlogn(n,mu,sigma^2)[1]\n",
    "        \n",
    "    elseif method == :mc\n",
    "        \n",
    "        # draw standard random, times SD, + mu, exponentiate to get logn variable\n",
    "        mc_draws = exp.(randn(n) * sigma .+ mu)\n",
    "        expected_b = mean(mc_draws)\n",
    "        \n",
    "    end\n",
    "    \n",
    "    # compute quantity using analytic solution\n",
    "    q = (a - c) ./ (2 .* expected_b)[1]\n",
    "    return q\n",
    "    \n",
    "end"
   ]
  },
  {
   "cell_type": "code",
   "execution_count": 20,
   "metadata": {},
   "outputs": [
    {
     "name": "stdout",
     "output_type": "stream",
     "text": [
      "The optimal quantity for input vector Any[5.0, 3.0, 4.0, 3.0] using MC is 0.00020627553071760947\n",
      "The optimal quantity for input vector Any[5.0, 3.0, 4.0, 3.0] using quadrature is 0.0002034904748652255\n"
     ]
    }
   ],
   "source": [
    "inputs = [5., 3., 4., 3., :mc, 5000000]\n",
    "println(\"The optimal quantity for input vector $(inputs[1:4]) using MC is $(quantity(inputs[1],inputs[2],inputs[3],inputs[4],inputs[5],inputs[6]))\")\n",
    "inputs = [5., 3., 4., 3., :quad, 11]\n",
    "println(\"The optimal quantity for input vector $(inputs[1:4]) using quadrature is $(quantity(inputs[1],inputs[2],inputs[3],inputs[4],inputs[5],inputs[6]))\")"
   ]
  },
  {
   "cell_type": "markdown",
   "metadata": {
    "slideshow": {
     "slide_type": ""
    }
   },
   "source": [
    "## Problem 2: Coding and Monte Carlo\n",
    "Approximate $\\pi$ using Monte Carlo. You may only use `rand()` to generate random numbers. Here is how to think about approximating $\\pi$:\n",
    "1. Suppose $U$ is a two dimensional random variable on the unit square $[0,1]\\times[0,1]$. The probability that $U$ is in a subset $B$ of $(0,1)\\times(0,1)$ is equal to the area of $B$.\n",
    "2. If $u_1,...,u_n$ are iid draws from $U$, then as $n$ grows (by an LLN type argument), the fraction that falls inside $B$ is the probability of another iid draw coming from $B$.\n",
    "3. The area of a circle is given by $\\pi \\times radius^2$."
   ]
  },
  {
   "cell_type": "code",
   "execution_count": 24,
   "metadata": {},
   "outputs": [
    {
     "name": "stdout",
     "output_type": "stream",
     "text": [
      "3.144212\n"
     ]
    }
   ],
   "source": [
    "n = 1000000\n",
    "count = 0\n",
    "\n",
    "\n",
    "for i in 1:n\n",
    "    \n",
    "    # draw 2 random numbers\n",
    "    u, v = rand(2)\n",
    "    \n",
    "    # Euclidean distance from middle of square\n",
    "    d = sqrt((u - 0.5)^2 + (v - 0.5)^2) \n",
    "    \n",
    "    # if inside the radius, add to count\n",
    "    if d < 0.5\n",
    "        count += 1\n",
    "    end\n",
    "    \n",
    "end\n",
    "\n",
    "# area is fraction of draws inside the radius, divide by r^2 to get π estimate\n",
    "pi_estimate = count / n  / .5^2\n",
    "\n",
    "println(pi_estimate)"
   ]
  },
  {
   "cell_type": "markdown",
   "metadata": {},
   "source": [
    "## Problem 3: Git"
   ]
  },
  {
   "cell_type": "markdown",
   "metadata": {},
   "source": [
    "1. Create a new repository named `problem-set-1-q-3` on your GitHub account.\n",
    "2. Put in a `README.md` with the following text: `Hello World!`.\n",
    "3. Put in a .gitignore file, ignoring the Jupyter files .ipynb_checkpoints and the project files, .projects.\n",
    "4. Create a new branch called `new-branch`.\n",
    "5. Change the `README.md` text to `Goodbye World!`.\n",
    "6. Merge `new-branch` back into `master`."
   ]
  },
  {
   "cell_type": "markdown",
   "metadata": {},
   "source": [
    "## Problem 4: Memory location\n",
    "\n",
    "Let's learn about some of the nuances of memory allocation.\n",
    "\n",
    "1. Generate one $20000 \\times 20000$ array of random numbers named `x`. \n",
    "2. Make a function called `exp_cols` which exponentiates the elements of `x` column by column (i.e. by broadcasting `exp.()`) and returns the exponentiated array.\n",
    "3. Make a function called `exp_rows` which exponentiates the elements of `x` row by row (i.e. by broadcasting `exp.()`) and returns the exponentiated array.\n",
    "4. Call `exp_cols(x)` and `exp_rows(x)` twice and calculate the elapsed time on the second call (avoids fixed cost of initial compiliation).\n",
    "5. Is one faster than the other?"
   ]
  },
  {
   "cell_type": "code",
   "execution_count": 31,
   "metadata": {},
   "outputs": [
    {
     "name": "stdout",
     "output_type": "stream",
     "text": [
      "  8.347195 seconds (80.01 k allocations: 8.944 GiB, 9.58% gc time)\n",
      " 40.105899 seconds (80.01 k allocations: 8.944 GiB, 3.48% gc time)\n"
     ]
    },
    {
     "data": {
      "text/plain": [
       "true"
      ]
     },
     "execution_count": 31,
     "metadata": {},
     "output_type": "execute_result"
    }
   ],
   "source": [
    "random_array = rand(20000,20000)\n",
    "\n",
    "function exp_col(random_array)\n",
    "    \n",
    "    # generate output array\n",
    "    col_exp_array = similar(random_array)\n",
    "    \n",
    "    # loop and exponentiate\n",
    "    for col_ind = 1:size(random_array, 2)\n",
    "        \n",
    "        col_exp_array[:, col_ind] = exp.(random_array[:, col_ind])\n",
    "        \n",
    "    end\n",
    "    \n",
    "    return col_exp_array\n",
    "    \n",
    "end\n",
    "\n",
    "function exp_row(random_array)\n",
    "    \n",
    "    row_exp_array = similar(random_array)\n",
    "    \n",
    "    for row_ind = 1:size(random_array, 1)\n",
    "        \n",
    "        row_exp_array[row_ind, :] = exp.(random_array[row_ind, :])\n",
    "        \n",
    "    end\n",
    "    \n",
    "    return row_exp_array\n",
    "    \n",
    "end\n",
    "\n",
    "# run and time both operations, run both twice because we need to pre-compile\n",
    "exp_col(random_array)\n",
    "@time col_exp_array = exp_col(random_array)\n",
    "\n",
    "exp_row(random_array)\n",
    "@time row_exp_array = exp_row(random_array)\n",
    "\n",
    "# check whether the output is identical\n",
    "all(row_exp_array .== col_exp_array)"
   ]
  }
 ],
 "metadata": {
  "kernelspec": {
   "display_name": "Julia 1.0.3",
   "language": "julia",
   "name": "julia-1.0"
  },
  "language_info": {
   "file_extension": ".jl",
   "mimetype": "application/julia",
   "name": "julia",
   "version": "1.0.3"
  },
  "varInspector": {
   "cols": {
    "lenName": 16,
    "lenType": 16,
    "lenVar": 40
   },
   "kernels_config": {
    "python": {
     "delete_cmd_postfix": "",
     "delete_cmd_prefix": "del ",
     "library": "var_list.py",
     "varRefreshCmd": "print(var_dic_list())"
    },
    "r": {
     "delete_cmd_postfix": ") ",
     "delete_cmd_prefix": "rm(",
     "library": "var_list.r",
     "varRefreshCmd": "cat(var_dic_list()) "
    }
   },
   "types_to_exclude": [
    "module",
    "function",
    "builtin_function_or_method",
    "instance",
    "_Feature"
   ],
   "window_display": false
  }
 },
 "nbformat": 4,
 "nbformat_minor": 2
}
