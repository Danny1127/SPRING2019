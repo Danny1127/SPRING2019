{
 "cells": [
  {
   "cell_type": "markdown",
   "metadata": {},
   "source": [
    "## Homework 2: Due Oct 14 at midnight\n",
    "\n",
    "You cannot use canned packages (i.e. don't use CompEcon) except for the Polynomials related package in the hints and plotting packages."
   ]
  },
  {
   "cell_type": "markdown",
   "metadata": {},
   "source": [
    "### 1) Uniform grid and ordinary polynomial approximation\n",
    "\n",
    "1) Fit an ordinary polynomial approximant to Runge's function: $1/(1+25x^2)$. First use an evenly spaced grid and the standard monomial basis. Use polynomials of degree 5, 10 and 20. Plot Runge's function and the degree 10 polynomial approximant. How good is the fit?\n",
    "\n",
    "Hint: You can fit an ordinary polynomial using the Polynomials package and polyfit, and evaluate the fitted polynomial using polyval."
   ]
  },
  {
   "cell_type": "markdown",
   "metadata": {},
   "source": [
    "### 2) Chebyshev grid and ordinary polynomial approximation\n",
    "\n",
    "Fit an ordinary polynomial approximant to Runge's function: $1/(1+25x^2)$. Use a grid of Chebyshev nodes and the standard monomial basis. Use polynomials of degree 5, 10 and 20. Chebyshev nodes are defined by $x_k = cos(\\frac{2k-1}{2n}\\pi), \\,\\,\\, k=1,...,n$. Plot Runge's function and the degree 10 approximant. How good is the fit?\n",
    "\n",
    "Note: Here you will need to write a function to give you the Chebyshev nodes.\n",
    "\n",
    "Hint: You can still use polyfit here."
   ]
  },
  {
   "cell_type": "markdown",
   "metadata": {},
   "source": [
    "### 3) Chebyshev grid and Chebyshev polynomial approximation\n",
    "\n",
    "Now approximate Runge's function using Chebyshev nodes and Chebyshev polynomials. You must write your own code to construct the Chebyshev polynomial. Chebyshev polynomials are are given by the following recurrence relation:\n",
    "\n",
    "1. $T_0(x) = 1$\n",
    "2. $T_1(x) = x$\n",
    "3. $T_{n+1}(x) = 2xT_n(x)-T_{n-1}(x)$\n",
    "\n",
    "or the following trigonometric identity: $T_n(x) = cos(n \\, arccos(x))$.\n",
    "\n",
    "Use polynomials of degree 5, 10 and 20. Plot Runge's function and the degree 10 polynomial approximant. How good is the fit?\n",
    "\n",
    "Note: You can write a function to compute the Chebyshev polynomials of an arbitrary degree at a given point or you can hand-code the polynomials. The former is harder to start but will be instructive for future coding.\n",
    "\n",
    "Hint: Use the trigonometric identity, it will be much more efficient in terms of writing code."
   ]
  }
 ],
 "metadata": {
  "kernelspec": {
   "display_name": "Julia 0.5.2",
   "language": "julia",
   "name": "julia-0.5"
  },
  "language_info": {
   "file_extension": ".jl",
   "mimetype": "application/julia",
   "name": "julia",
   "version": "0.5.2"
  }
 },
 "nbformat": 4,
 "nbformat_minor": 2
}
