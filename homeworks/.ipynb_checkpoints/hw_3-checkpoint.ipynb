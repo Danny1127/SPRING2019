{
 "cells": [
  {
   "cell_type": "markdown",
   "metadata": {},
   "source": [
    "## Homework 3: Due Nov 17 at midnight\n",
    "\n",
    "You can use any canned package for function fitting (e.g. CompEcon) and any solution method out of value function iteration, fixed point iteration, and time iteration."
   ]
  },
  {
   "cell_type": "markdown",
   "metadata": {},
   "source": [
    "### Oil extraction\n",
    "\n",
    "We are a small oil extracting firm. We own an oil reservoir that contains $s_0 = 500$ barrels of oil at time 0, and $s_t$ denotes how much oil we have in our reservoir at time $t = 0,1,2,....$ The cost of extracting oil is given by the function, $C(e_t) = e_t^2$ where $e_t$ is barrels of oil extracted at time $t$. The remaining oil in the reservoir is given by $s_{t+1} = s_t - e_t$. Extracted oil at time $t$ is sold immediately at a price of \\$30/barrel. We discount the future with a per-period discount factor $\\beta = 0.95$. We cannot leave a negative stock of oil in the ground and we cannot extract a negative amount of oil ($e_t \\geq 0$, $s_{t+1} \\geq 0$).\n",
    "\n",
    "1. Write out the extraction problem in Bellman form.\n",
    "2. Solve for the infinite horizon value function or policy function (hint: the initial condition tells you what your collocation domain should be).\n",
    "3. Simulate the model forward in time for 20 periods using an approximation of degree 3, 4 and 5. Plot the extraction and oil stock trajectories. \n",
    "4. Compute and plot the Euler equation error along the trajectories."
   ]
  }
 ],
 "metadata": {
  "kernelspec": {
   "display_name": "Julia 0.5.2",
   "language": "julia",
   "name": "julia-0.5"
  },
  "language_info": {
   "file_extension": ".jl",
   "mimetype": "application/julia",
   "name": "julia",
   "version": "0.5.2"
  }
 },
 "nbformat": 4,
 "nbformat_minor": 2
}
